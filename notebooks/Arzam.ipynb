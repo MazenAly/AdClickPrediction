{
 "cells": [
  {
   "cell_type": "code",
   "execution_count": 3,
   "metadata": {
    "collapsed": false
   },
   "outputs": [],
   "source": [
    "import pandas as pd\n",
    "import numpy as np\n",
    "pd.set_option('display.max_columns', None)\n",
    "from datetime import datetime\n",
    "from sklearn.linear_model import SGDClassifier\n",
    "import sklearn.cross_validation\n",
    "from sklearn.preprocessing import MinMaxScaler\n",
    "import sklearn.metrics\n",
    "from sklearn.preprocessing import MinMaxScaler, StandardScaler\n",
    "import xgboost\n",
    "from vowpalwabbit.sklearn_vw import VWClassifier\n",
    "import langdetect as ld\n",
    "#from difflib import SequenceMatcher\n",
    "from fuzzywuzzy import fuzz"
   ]
  },
  {
   "cell_type": "code",
   "execution_count": 66,
   "metadata": {
    "collapsed": false
   },
   "outputs": [],
   "source": [
    "# SOURCE = \"../data/google_sample.csv\"\n",
    "# df = pd.read_csv(SOURCE, sep=',')\n",
    "\n",
    "TEST_SOURCE = \"../data/arzam_test.csv\"\n",
    "df = pd.read_csv(TEST_SOURCE, sep=',')"
   ]
  },
  {
   "cell_type": "code",
   "execution_count": 53,
   "metadata": {
    "collapsed": false
   },
   "outputs": [
    {
     "data": {
      "text/html": [
       "<div>\n",
       "<table border=\"1\" class=\"dataframe\">\n",
       "  <thead>\n",
       "    <tr style=\"text-align: right;\">\n",
       "      <th></th>\n",
       "      <th>SearchID</th>\n",
       "      <th>AdID</th>\n",
       "      <th>Position</th>\n",
       "      <th>HistCTR</th>\n",
       "      <th>IsClick</th>\n",
       "      <th>SearchDate</th>\n",
       "      <th>IPID</th>\n",
       "      <th>UserID</th>\n",
       "      <th>IsUserLoggedOn</th>\n",
       "      <th>SearchQuery</th>\n",
       "      <th>SearchLocationID</th>\n",
       "      <th>SearchCategoryID</th>\n",
       "      <th>SearchParams</th>\n",
       "      <th>SearchLocationLevel</th>\n",
       "      <th>SearchRegionID</th>\n",
       "      <th>SearchCityID</th>\n",
       "      <th>SearchCategoryLevel</th>\n",
       "      <th>SearchParentCategoryID</th>\n",
       "      <th>SearchSubcategoryID</th>\n",
       "      <th>UserAgentID</th>\n",
       "      <th>UserAgentOSID</th>\n",
       "      <th>UserDeviceID</th>\n",
       "      <th>UserAgentFamilyID</th>\n",
       "      <th>AdCategoryID</th>\n",
       "      <th>Params</th>\n",
       "      <th>Price</th>\n",
       "      <th>Title</th>\n",
       "      <th>AdCategoryLevel</th>\n",
       "      <th>AdParentCategoryID</th>\n",
       "      <th>AdSubcategoryID</th>\n",
       "      <th>weight</th>\n",
       "    </tr>\n",
       "  </thead>\n",
       "  <tbody>\n",
       "    <tr>\n",
       "      <th>0</th>\n",
       "      <td>121</td>\n",
       "      <td>1220223</td>\n",
       "      <td>7</td>\n",
       "      <td>0.005422</td>\n",
       "      <td>1</td>\n",
       "      <td>2015-05-09 22:21:40.0</td>\n",
       "      <td>490755</td>\n",
       "      <td>3817669</td>\n",
       "      <td>0</td>\n",
       "      <td>NaN</td>\n",
       "      <td>2685</td>\n",
       "      <td>44</td>\n",
       "      <td>NaN</td>\n",
       "      <td>3</td>\n",
       "      <td>9.0</td>\n",
       "      <td>1582.0</td>\n",
       "      <td>3</td>\n",
       "      <td>12</td>\n",
       "      <td>22</td>\n",
       "      <td>1582</td>\n",
       "      <td>44</td>\n",
       "      <td>2014</td>\n",
       "      <td>62</td>\n",
       "      <td>44.0</td>\n",
       "      <td>{223:'Бинокли и телескопы'}</td>\n",
       "      <td>1000.0</td>\n",
       "      <td>Лупа,монокуляр на очковой оправе,Отправка по Р...</td>\n",
       "      <td>3.0</td>\n",
       "      <td>12.0</td>\n",
       "      <td>22.0</td>\n",
       "      <td>1</td>\n",
       "    </tr>\n",
       "    <tr>\n",
       "      <th>1</th>\n",
       "      <td>121</td>\n",
       "      <td>17114456</td>\n",
       "      <td>1</td>\n",
       "      <td>0.012844</td>\n",
       "      <td>0</td>\n",
       "      <td>2015-05-09 22:21:40.0</td>\n",
       "      <td>490755</td>\n",
       "      <td>3817669</td>\n",
       "      <td>0</td>\n",
       "      <td>NaN</td>\n",
       "      <td>2685</td>\n",
       "      <td>44</td>\n",
       "      <td>NaN</td>\n",
       "      <td>3</td>\n",
       "      <td>9.0</td>\n",
       "      <td>1582.0</td>\n",
       "      <td>3</td>\n",
       "      <td>12</td>\n",
       "      <td>22</td>\n",
       "      <td>1582</td>\n",
       "      <td>44</td>\n",
       "      <td>2014</td>\n",
       "      <td>62</td>\n",
       "      <td>44.0</td>\n",
       "      <td>{223:'Зеркальные фотоаппараты'}</td>\n",
       "      <td>77170.0</td>\n",
       "      <td>Зеркальный фотоаппарат Canon EOS 6D (WG) Body</td>\n",
       "      <td>3.0</td>\n",
       "      <td>12.0</td>\n",
       "      <td>22.0</td>\n",
       "      <td>1</td>\n",
       "    </tr>\n",
       "    <tr>\n",
       "      <th>2</th>\n",
       "      <td>181</td>\n",
       "      <td>6040959</td>\n",
       "      <td>1</td>\n",
       "      <td>0.002102</td>\n",
       "      <td>0</td>\n",
       "      <td>2015-04-30 10:24:49.0</td>\n",
       "      <td>1507803</td>\n",
       "      <td>2391097</td>\n",
       "      <td>0</td>\n",
       "      <td>NaN</td>\n",
       "      <td>230</td>\n",
       "      <td>22</td>\n",
       "      <td>{83:'Платья и юбки', 175:'Женская одежда', 90:...</td>\n",
       "      <td>3</td>\n",
       "      <td>2.0</td>\n",
       "      <td>2951.0</td>\n",
       "      <td>3</td>\n",
       "      <td>3</td>\n",
       "      <td>47</td>\n",
       "      <td>63091</td>\n",
       "      <td>20</td>\n",
       "      <td>2014</td>\n",
       "      <td>25</td>\n",
       "      <td>22.0</td>\n",
       "      <td>{83:'Платья и юбки', 175:'Женская одежда'}</td>\n",
       "      <td>1790.0</td>\n",
       "      <td>Юбка LOST INK с доставкой</td>\n",
       "      <td>3.0</td>\n",
       "      <td>3.0</td>\n",
       "      <td>47.0</td>\n",
       "      <td>1</td>\n",
       "    </tr>\n",
       "    <tr>\n",
       "      <th>3</th>\n",
       "      <td>181</td>\n",
       "      <td>13840581</td>\n",
       "      <td>7</td>\n",
       "      <td>0.013889</td>\n",
       "      <td>1</td>\n",
       "      <td>2015-04-30 10:24:49.0</td>\n",
       "      <td>1507803</td>\n",
       "      <td>2391097</td>\n",
       "      <td>0</td>\n",
       "      <td>NaN</td>\n",
       "      <td>230</td>\n",
       "      <td>22</td>\n",
       "      <td>{83:'Платья и юбки', 175:'Женская одежда', 90:...</td>\n",
       "      <td>3</td>\n",
       "      <td>2.0</td>\n",
       "      <td>2951.0</td>\n",
       "      <td>3</td>\n",
       "      <td>3</td>\n",
       "      <td>47</td>\n",
       "      <td>63091</td>\n",
       "      <td>20</td>\n",
       "      <td>2014</td>\n",
       "      <td>25</td>\n",
       "      <td>22.0</td>\n",
       "      <td>{83:'Платья и юбки', 175:'Женская одежда'}</td>\n",
       "      <td>3000.0</td>\n",
       "      <td>Брендовые вечерние платья</td>\n",
       "      <td>3.0</td>\n",
       "      <td>3.0</td>\n",
       "      <td>47.0</td>\n",
       "      <td>1</td>\n",
       "    </tr>\n",
       "    <tr>\n",
       "      <th>4</th>\n",
       "      <td>198</td>\n",
       "      <td>14515103</td>\n",
       "      <td>1</td>\n",
       "      <td>0.033885</td>\n",
       "      <td>1</td>\n",
       "      <td>2015-05-07 10:46:21.0</td>\n",
       "      <td>951832</td>\n",
       "      <td>372668</td>\n",
       "      <td>1</td>\n",
       "      <td>chevrolet cruze</td>\n",
       "      <td>3960</td>\n",
       "      <td>34</td>\n",
       "      <td>{598:'Для автомобилей', 5:'Запчасти'}</td>\n",
       "      <td>2</td>\n",
       "      <td>18.0</td>\n",
       "      <td>623.0</td>\n",
       "      <td>3</td>\n",
       "      <td>6</td>\n",
       "      <td>7</td>\n",
       "      <td>54509</td>\n",
       "      <td>44</td>\n",
       "      <td>2014</td>\n",
       "      <td>62</td>\n",
       "      <td>34.0</td>\n",
       "      <td>{5:'Запчасти', 598:'Для автомобилей'}</td>\n",
       "      <td>5470.0</td>\n",
       "      <td>Запчасти б/у и новые для chevrolet cruze (09-)</td>\n",
       "      <td>3.0</td>\n",
       "      <td>6.0</td>\n",
       "      <td>7.0</td>\n",
       "      <td>1</td>\n",
       "    </tr>\n",
       "  </tbody>\n",
       "</table>\n",
       "</div>"
      ],
      "text/plain": [
       "   SearchID      AdID  Position   HistCTR  IsClick             SearchDate  \\\n",
       "0       121   1220223         7  0.005422        1  2015-05-09 22:21:40.0   \n",
       "1       121  17114456         1  0.012844        0  2015-05-09 22:21:40.0   \n",
       "2       181   6040959         1  0.002102        0  2015-04-30 10:24:49.0   \n",
       "3       181  13840581         7  0.013889        1  2015-04-30 10:24:49.0   \n",
       "4       198  14515103         1  0.033885        1  2015-05-07 10:46:21.0   \n",
       "\n",
       "      IPID   UserID  IsUserLoggedOn      SearchQuery  SearchLocationID  \\\n",
       "0   490755  3817669               0              NaN              2685   \n",
       "1   490755  3817669               0              NaN              2685   \n",
       "2  1507803  2391097               0              NaN               230   \n",
       "3  1507803  2391097               0              NaN               230   \n",
       "4   951832   372668               1  chevrolet cruze              3960   \n",
       "\n",
       "   SearchCategoryID                                       SearchParams  \\\n",
       "0                44                                                NaN   \n",
       "1                44                                                NaN   \n",
       "2                22  {83:'Платья и юбки', 175:'Женская одежда', 90:...   \n",
       "3                22  {83:'Платья и юбки', 175:'Женская одежда', 90:...   \n",
       "4                34              {598:'Для автомобилей', 5:'Запчасти'}   \n",
       "\n",
       "   SearchLocationLevel  SearchRegionID  SearchCityID  SearchCategoryLevel  \\\n",
       "0                    3             9.0        1582.0                    3   \n",
       "1                    3             9.0        1582.0                    3   \n",
       "2                    3             2.0        2951.0                    3   \n",
       "3                    3             2.0        2951.0                    3   \n",
       "4                    2            18.0         623.0                    3   \n",
       "\n",
       "   SearchParentCategoryID  SearchSubcategoryID  UserAgentID  UserAgentOSID  \\\n",
       "0                      12                   22         1582             44   \n",
       "1                      12                   22         1582             44   \n",
       "2                       3                   47        63091             20   \n",
       "3                       3                   47        63091             20   \n",
       "4                       6                    7        54509             44   \n",
       "\n",
       "   UserDeviceID  UserAgentFamilyID  AdCategoryID  \\\n",
       "0          2014                 62          44.0   \n",
       "1          2014                 62          44.0   \n",
       "2          2014                 25          22.0   \n",
       "3          2014                 25          22.0   \n",
       "4          2014                 62          34.0   \n",
       "\n",
       "                                       Params    Price  \\\n",
       "0                 {223:'Бинокли и телескопы'}   1000.0   \n",
       "1             {223:'Зеркальные фотоаппараты'}  77170.0   \n",
       "2  {83:'Платья и юбки', 175:'Женская одежда'}   1790.0   \n",
       "3  {83:'Платья и юбки', 175:'Женская одежда'}   3000.0   \n",
       "4       {5:'Запчасти', 598:'Для автомобилей'}   5470.0   \n",
       "\n",
       "                                               Title  AdCategoryLevel  \\\n",
       "0  Лупа,монокуляр на очковой оправе,Отправка по Р...              3.0   \n",
       "1      Зеркальный фотоаппарат Canon EOS 6D (WG) Body              3.0   \n",
       "2                          Юбка LOST INK с доставкой              3.0   \n",
       "3                          Брендовые вечерние платья              3.0   \n",
       "4     Запчасти б/у и новые для chevrolet cruze (09-)              3.0   \n",
       "\n",
       "   AdParentCategoryID  AdSubcategoryID  weight  \n",
       "0                12.0             22.0       1  \n",
       "1                12.0             22.0       1  \n",
       "2                 3.0             47.0       1  \n",
       "3                 3.0             47.0       1  \n",
       "4                 6.0              7.0       1  "
      ]
     },
     "execution_count": 53,
     "metadata": {},
     "output_type": "execute_result"
    }
   ],
   "source": [
    "df.head()"
   ]
  },
  {
   "cell_type": "code",
   "execution_count": 104,
   "metadata": {
    "collapsed": false
   },
   "outputs": [
    {
     "data": {
      "text/plain": [
       "(49, 31)"
      ]
     },
     "execution_count": 104,
     "metadata": {},
     "output_type": "execute_result"
    }
   ],
   "source": [
    "df.shape"
   ]
  },
  {
   "cell_type": "code",
   "execution_count": 17,
   "metadata": {
    "collapsed": false
   },
   "outputs": [
    {
     "data": {
      "text/plain": [
       "SearchID                  4860733\n",
       "AdID                        25921\n",
       "Position                        2\n",
       "HistCTR                     66546\n",
       "IsClick                         2\n",
       "SearchDate                1712012\n",
       "IPID                       883031\n",
       "UserID                    1355428\n",
       "IsUserLoggedOn                  2\n",
       "SearchQuery                 45314\n",
       "SearchLocationID             2652\n",
       "SearchCategoryID               39\n",
       "SearchParams                 8011\n",
       "SearchLocationLevel             3\n",
       "SearchRegionID                 83\n",
       "SearchCityID                 2538\n",
       "SearchCategoryLevel             3\n",
       "SearchParentCategoryID          8\n",
       "SearchSubcategoryID            32\n",
       "UserAgentID                 28443\n",
       "UserAgentOSID                  41\n",
       "UserDeviceID                 2554\n",
       "UserAgentFamilyID              69\n",
       "AdCategoryID                   31\n",
       "Params                        230\n",
       "Price                        5734\n",
       "Title                       19978\n",
       "AdCategoryLevel                 1\n",
       "AdParentCategoryID              7\n",
       "AdSubcategoryID                31\n",
       "weight                          2\n",
       "dtype: int64"
      ]
     },
     "execution_count": 17,
     "metadata": {},
     "output_type": "execute_result"
    }
   ],
   "source": [
    "# Number of unique searches\n",
    "# df[\"SearchID\"].apply(pd.Series.nunique())\n",
    "df.apply(pd.Series.nunique)\n",
    "# 4860733"
   ]
  },
  {
   "cell_type": "markdown",
   "metadata": {},
   "source": [
    "## Feature Engineering"
   ]
  },
  {
   "cell_type": "code",
   "execution_count": 7,
   "metadata": {
    "collapsed": false
   },
   "outputs": [],
   "source": [
    "df[\"SearchDate\"] = pd.to_datetime(df[\"SearchDate\"])\n",
    "\n",
    "df[\"day_of_week\"] = df[\"SearchDate\"].dt.dayofweek\n",
    "df[\"hour\"] = df[\"SearchDate\"].dt.hour\n",
    "\n",
    "df[\"AdTitleSZ\"] = df[\"Title\"].str.len()\n",
    "df[\"SearchParamsSZ\"] = df[\"SearchParams\"].str.len()\n",
    "df[\"SearchQuerySZ\"] = df[\"SearchQuery\"].str.len()"
   ]
  },
  {
   "cell_type": "code",
   "execution_count": 97,
   "metadata": {
    "collapsed": false
   },
   "outputs": [],
   "source": [
    "mergedDf = pd.DataFrame();\n",
    "\n",
    "def calculateAdQueryPartialRatio(x):\n",
    "    x['SearchAdPartialRatio'] = fuzz.partial_ratio(str(x[\"Title\"]), str(x[\"SearchQuery\"]))\n",
    "    return x"
   ]
  },
  {
   "cell_type": "code",
   "execution_count": 98,
   "metadata": {
    "collapsed": false
   },
   "outputs": [],
   "source": [
    "for chunk in pd.read_csv(TEST_SOURCE, sep=',', chunksize=10, usecols=[\"SearchID\", \"AdID\", \"Title\", \"SearchQuery\"]):\n",
    "    chunk = chunk.apply(calculateAdQueryPartialRatio , axis=1)\n",
    "    \n",
    "    tempDf = pd.merge(df, chunk, on=['SearchID', 'AdID'])\n",
    "#     tempDf = pd.concat([df, chunk], axis=1)\n",
    "    mergedDf = mergedDf.append(tempDf)"
   ]
  },
  {
   "cell_type": "code",
   "execution_count": 103,
   "metadata": {
    "collapsed": false
   },
   "outputs": [
    {
     "data": {
      "text/html": [
       "<div>\n",
       "<table border=\"1\" class=\"dataframe\">\n",
       "  <thead>\n",
       "    <tr style=\"text-align: right;\">\n",
       "      <th></th>\n",
       "      <th>SearchID</th>\n",
       "      <th>AdID</th>\n",
       "      <th>Position</th>\n",
       "      <th>HistCTR</th>\n",
       "      <th>IsClick</th>\n",
       "      <th>SearchDate</th>\n",
       "      <th>IPID</th>\n",
       "      <th>UserID</th>\n",
       "      <th>IsUserLoggedOn</th>\n",
       "      <th>SearchQuery_x</th>\n",
       "      <th>SearchLocationID</th>\n",
       "      <th>SearchCategoryID</th>\n",
       "      <th>SearchParams</th>\n",
       "      <th>SearchLocationLevel</th>\n",
       "      <th>SearchRegionID</th>\n",
       "      <th>SearchCityID</th>\n",
       "      <th>SearchCategoryLevel</th>\n",
       "      <th>SearchParentCategoryID</th>\n",
       "      <th>SearchSubcategoryID</th>\n",
       "      <th>UserAgentID</th>\n",
       "      <th>UserAgentOSID</th>\n",
       "      <th>UserDeviceID</th>\n",
       "      <th>UserAgentFamilyID</th>\n",
       "      <th>AdCategoryID</th>\n",
       "      <th>Params</th>\n",
       "      <th>Price</th>\n",
       "      <th>Title_x</th>\n",
       "      <th>AdCategoryLevel</th>\n",
       "      <th>AdParentCategoryID</th>\n",
       "      <th>AdSubcategoryID</th>\n",
       "      <th>weight</th>\n",
       "      <th>SearchAdPartialRatio</th>\n",
       "    </tr>\n",
       "  </thead>\n",
       "  <tbody>\n",
       "    <tr>\n",
       "      <th>0</th>\n",
       "      <td>121</td>\n",
       "      <td>1220223</td>\n",
       "      <td>7</td>\n",
       "      <td>0.005422</td>\n",
       "      <td>1</td>\n",
       "      <td>2015-05-09 22:21:40.0</td>\n",
       "      <td>490755</td>\n",
       "      <td>3817669</td>\n",
       "      <td>0</td>\n",
       "      <td>NaN</td>\n",
       "      <td>2685</td>\n",
       "      <td>44</td>\n",
       "      <td>NaN</td>\n",
       "      <td>3</td>\n",
       "      <td>9.0</td>\n",
       "      <td>1582.0</td>\n",
       "      <td>3</td>\n",
       "      <td>12</td>\n",
       "      <td>22</td>\n",
       "      <td>1582</td>\n",
       "      <td>44</td>\n",
       "      <td>2014</td>\n",
       "      <td>62</td>\n",
       "      <td>44.0</td>\n",
       "      <td>{223:'Бинокли и телескопы'}</td>\n",
       "      <td>1000.0</td>\n",
       "      <td>Лупа,монокуляр на очковой оправе,Отправка по Р...</td>\n",
       "      <td>3.0</td>\n",
       "      <td>12.0</td>\n",
       "      <td>22.0</td>\n",
       "      <td>1</td>\n",
       "      <td>0</td>\n",
       "    </tr>\n",
       "    <tr>\n",
       "      <th>1</th>\n",
       "      <td>121</td>\n",
       "      <td>17114456</td>\n",
       "      <td>1</td>\n",
       "      <td>0.012844</td>\n",
       "      <td>0</td>\n",
       "      <td>2015-05-09 22:21:40.0</td>\n",
       "      <td>490755</td>\n",
       "      <td>3817669</td>\n",
       "      <td>0</td>\n",
       "      <td>NaN</td>\n",
       "      <td>2685</td>\n",
       "      <td>44</td>\n",
       "      <td>NaN</td>\n",
       "      <td>3</td>\n",
       "      <td>9.0</td>\n",
       "      <td>1582.0</td>\n",
       "      <td>3</td>\n",
       "      <td>12</td>\n",
       "      <td>22</td>\n",
       "      <td>1582</td>\n",
       "      <td>44</td>\n",
       "      <td>2014</td>\n",
       "      <td>62</td>\n",
       "      <td>44.0</td>\n",
       "      <td>{223:'Зеркальные фотоаппараты'}</td>\n",
       "      <td>77170.0</td>\n",
       "      <td>Зеркальный фотоаппарат Canon EOS 6D (WG) Body</td>\n",
       "      <td>3.0</td>\n",
       "      <td>12.0</td>\n",
       "      <td>22.0</td>\n",
       "      <td>1</td>\n",
       "      <td>67</td>\n",
       "    </tr>\n",
       "    <tr>\n",
       "      <th>2</th>\n",
       "      <td>181</td>\n",
       "      <td>6040959</td>\n",
       "      <td>1</td>\n",
       "      <td>0.002102</td>\n",
       "      <td>0</td>\n",
       "      <td>2015-04-30 10:24:49.0</td>\n",
       "      <td>1507803</td>\n",
       "      <td>2391097</td>\n",
       "      <td>0</td>\n",
       "      <td>NaN</td>\n",
       "      <td>230</td>\n",
       "      <td>22</td>\n",
       "      <td>{83:'Платья и юбки', 175:'Женская одежда', 90:...</td>\n",
       "      <td>3</td>\n",
       "      <td>2.0</td>\n",
       "      <td>2951.0</td>\n",
       "      <td>3</td>\n",
       "      <td>3</td>\n",
       "      <td>47</td>\n",
       "      <td>63091</td>\n",
       "      <td>20</td>\n",
       "      <td>2014</td>\n",
       "      <td>25</td>\n",
       "      <td>22.0</td>\n",
       "      <td>{83:'Платья и юбки', 175:'Женская одежда'}</td>\n",
       "      <td>1790.0</td>\n",
       "      <td>Юбка LOST INK с доставкой</td>\n",
       "      <td>3.0</td>\n",
       "      <td>3.0</td>\n",
       "      <td>47.0</td>\n",
       "      <td>1</td>\n",
       "      <td>0</td>\n",
       "    </tr>\n",
       "    <tr>\n",
       "      <th>3</th>\n",
       "      <td>181</td>\n",
       "      <td>13840581</td>\n",
       "      <td>7</td>\n",
       "      <td>0.013889</td>\n",
       "      <td>1</td>\n",
       "      <td>2015-04-30 10:24:49.0</td>\n",
       "      <td>1507803</td>\n",
       "      <td>2391097</td>\n",
       "      <td>0</td>\n",
       "      <td>NaN</td>\n",
       "      <td>230</td>\n",
       "      <td>22</td>\n",
       "      <td>{83:'Платья и юбки', 175:'Женская одежда', 90:...</td>\n",
       "      <td>3</td>\n",
       "      <td>2.0</td>\n",
       "      <td>2951.0</td>\n",
       "      <td>3</td>\n",
       "      <td>3</td>\n",
       "      <td>47</td>\n",
       "      <td>63091</td>\n",
       "      <td>20</td>\n",
       "      <td>2014</td>\n",
       "      <td>25</td>\n",
       "      <td>22.0</td>\n",
       "      <td>{83:'Платья и юбки', 175:'Женская одежда'}</td>\n",
       "      <td>3000.0</td>\n",
       "      <td>Брендовые вечерние платья</td>\n",
       "      <td>3.0</td>\n",
       "      <td>3.0</td>\n",
       "      <td>47.0</td>\n",
       "      <td>1</td>\n",
       "      <td>0</td>\n",
       "    </tr>\n",
       "    <tr>\n",
       "      <th>4</th>\n",
       "      <td>198</td>\n",
       "      <td>14515103</td>\n",
       "      <td>1</td>\n",
       "      <td>0.033885</td>\n",
       "      <td>1</td>\n",
       "      <td>2015-05-07 10:46:21.0</td>\n",
       "      <td>951832</td>\n",
       "      <td>372668</td>\n",
       "      <td>1</td>\n",
       "      <td>chevrolet cruze</td>\n",
       "      <td>3960</td>\n",
       "      <td>34</td>\n",
       "      <td>{598:'Для автомобилей', 5:'Запчасти'}</td>\n",
       "      <td>2</td>\n",
       "      <td>18.0</td>\n",
       "      <td>623.0</td>\n",
       "      <td>3</td>\n",
       "      <td>6</td>\n",
       "      <td>7</td>\n",
       "      <td>54509</td>\n",
       "      <td>44</td>\n",
       "      <td>2014</td>\n",
       "      <td>62</td>\n",
       "      <td>34.0</td>\n",
       "      <td>{5:'Запчасти', 598:'Для автомобилей'}</td>\n",
       "      <td>5470.0</td>\n",
       "      <td>Запчасти б/у и новые для chevrolet cruze (09-)</td>\n",
       "      <td>3.0</td>\n",
       "      <td>6.0</td>\n",
       "      <td>7.0</td>\n",
       "      <td>1</td>\n",
       "      <td>100</td>\n",
       "    </tr>\n",
       "  </tbody>\n",
       "</table>\n",
       "</div>"
      ],
      "text/plain": [
       "   SearchID      AdID  Position   HistCTR  IsClick             SearchDate  \\\n",
       "0       121   1220223         7  0.005422        1  2015-05-09 22:21:40.0   \n",
       "1       121  17114456         1  0.012844        0  2015-05-09 22:21:40.0   \n",
       "2       181   6040959         1  0.002102        0  2015-04-30 10:24:49.0   \n",
       "3       181  13840581         7  0.013889        1  2015-04-30 10:24:49.0   \n",
       "4       198  14515103         1  0.033885        1  2015-05-07 10:46:21.0   \n",
       "\n",
       "      IPID   UserID  IsUserLoggedOn    SearchQuery_x  SearchLocationID  \\\n",
       "0   490755  3817669               0              NaN              2685   \n",
       "1   490755  3817669               0              NaN              2685   \n",
       "2  1507803  2391097               0              NaN               230   \n",
       "3  1507803  2391097               0              NaN               230   \n",
       "4   951832   372668               1  chevrolet cruze              3960   \n",
       "\n",
       "   SearchCategoryID                                       SearchParams  \\\n",
       "0                44                                                NaN   \n",
       "1                44                                                NaN   \n",
       "2                22  {83:'Платья и юбки', 175:'Женская одежда', 90:...   \n",
       "3                22  {83:'Платья и юбки', 175:'Женская одежда', 90:...   \n",
       "4                34              {598:'Для автомобилей', 5:'Запчасти'}   \n",
       "\n",
       "   SearchLocationLevel  SearchRegionID  SearchCityID  SearchCategoryLevel  \\\n",
       "0                    3             9.0        1582.0                    3   \n",
       "1                    3             9.0        1582.0                    3   \n",
       "2                    3             2.0        2951.0                    3   \n",
       "3                    3             2.0        2951.0                    3   \n",
       "4                    2            18.0         623.0                    3   \n",
       "\n",
       "   SearchParentCategoryID  SearchSubcategoryID  UserAgentID  UserAgentOSID  \\\n",
       "0                      12                   22         1582             44   \n",
       "1                      12                   22         1582             44   \n",
       "2                       3                   47        63091             20   \n",
       "3                       3                   47        63091             20   \n",
       "4                       6                    7        54509             44   \n",
       "\n",
       "   UserDeviceID  UserAgentFamilyID  AdCategoryID  \\\n",
       "0          2014                 62          44.0   \n",
       "1          2014                 62          44.0   \n",
       "2          2014                 25          22.0   \n",
       "3          2014                 25          22.0   \n",
       "4          2014                 62          34.0   \n",
       "\n",
       "                                       Params    Price  \\\n",
       "0                 {223:'Бинокли и телескопы'}   1000.0   \n",
       "1             {223:'Зеркальные фотоаппараты'}  77170.0   \n",
       "2  {83:'Платья и юбки', 175:'Женская одежда'}   1790.0   \n",
       "3  {83:'Платья и юбки', 175:'Женская одежда'}   3000.0   \n",
       "4       {5:'Запчасти', 598:'Для автомобилей'}   5470.0   \n",
       "\n",
       "                                             Title_x  AdCategoryLevel  \\\n",
       "0  Лупа,монокуляр на очковой оправе,Отправка по Р...              3.0   \n",
       "1      Зеркальный фотоаппарат Canon EOS 6D (WG) Body              3.0   \n",
       "2                          Юбка LOST INK с доставкой              3.0   \n",
       "3                          Брендовые вечерние платья              3.0   \n",
       "4     Запчасти б/у и новые для chevrolet cruze (09-)              3.0   \n",
       "\n",
       "   AdParentCategoryID  AdSubcategoryID  weight  SearchAdPartialRatio  \n",
       "0                12.0             22.0       1                     0  \n",
       "1                12.0             22.0       1                    67  \n",
       "2                 3.0             47.0       1                     0  \n",
       "3                 3.0             47.0       1                     0  \n",
       "4                 6.0              7.0       1                   100  "
      ]
     },
     "execution_count": 103,
     "metadata": {},
     "output_type": "execute_result"
    }
   ],
   "source": [
    "# mergedDf.shape\n",
    "mergedDf.head()\n",
    "mergedDf = mergedDf.drop(['SearchQuery_y', 'Title_y'], axis=1)"
   ]
  },
  {
   "cell_type": "code",
   "execution_count": null,
   "metadata": {
    "collapsed": false
   },
   "outputs": [],
   "source": [
    "# def returnSearchAdPartialRatio(x):\n",
    "#     return adQueryPartialRatio_di[x][\"SearchAdPartialRatio\"]\n",
    "\n",
    "# df[\"SearchAdPartialRatio\"] = zip(*df[\"SearchID\"].apply(returnSearchAdPartialRatio))\n",
    "\n",
    "# pd.concat([df, s4, s5], axis=1)\n",
    "\n",
    "# pd.merge(df, b, on=['SearchID', 'AdID'])\n",
    "\n",
    "df_SearchAdPartialRatio_only = pd.DataFrame(adQueryPartialRatio_di.items(), columns=['SearchAdPartialRatio'])"
   ]
  },
  {
   "cell_type": "code",
   "execution_count": null,
   "metadata": {
    "collapsed": true
   },
   "outputs": [],
   "source": [
    "df_SearchAdPartialRatio_only.head()"
   ]
  },
  {
   "cell_type": "code",
   "execution_count": 7,
   "metadata": {
    "collapsed": false
   },
   "outputs": [
    {
     "data": {
      "text/plain": [
       "0      50\n",
       "33     26\n",
       "100     5\n",
       "67      5\n",
       "90      3\n",
       "91      2\n",
       "83      2\n",
       "93      1\n",
       "87      1\n",
       "85      1\n",
       "68      1\n",
       "58      1\n",
       "41      1\n",
       "10      1\n",
       "Name: SearchAdPartialRatio, dtype: int64"
      ]
     },
     "execution_count": 7,
     "metadata": {},
     "output_type": "execute_result"
    }
   ],
   "source": [
    "df['SearchAdPartialRatio'].value_counts()\n",
    "# df['AdTitleSZ'].value_counts()\n",
    "\n",
    "adQueryPartialRatio_di.clear()"
   ]
  },
  {
   "cell_type": "code",
   "execution_count": 32,
   "metadata": {
    "collapsed": false
   },
   "outputs": [
    {
     "data": {
      "text/plain": [
       "93"
      ]
     },
     "execution_count": 32,
     "metadata": {},
     "output_type": "execute_result"
    }
   ],
   "source": [
    "fuzz.partial_ratio(\"лебедка\", \"Лебедка электрическая ComeUp Walrus 20.0 24V\")"
   ]
  },
  {
   "cell_type": "code",
   "execution_count": 34,
   "metadata": {
    "collapsed": false
   },
   "outputs": [
    {
     "data": {
      "text/plain": [
       "u'en'"
      ]
     },
     "execution_count": 34,
     "metadata": {},
     "output_type": "execute_result"
    }
   ],
   "source": [
    "# ld.detect(\"Брендовые вечерние платья\")\n",
    "ld.detect(\"Hey this is cool\")\n",
    "\n",
    "# def similar(a, b):\n",
    "#     return SequenceMatcher(None, a, b).ratio()\n",
    "\n",
    "# similar(\"лебедка\",\"лебедка\")"
   ]
  },
  {
   "cell_type": "code",
   "execution_count": 29,
   "metadata": {
    "collapsed": false
   },
   "outputs": [
    {
     "data": {
      "text/plain": [
       "(0, 46)"
      ]
     },
     "execution_count": 29,
     "metadata": {},
     "output_type": "execute_result"
    }
   ],
   "source": [
    "df.shape"
   ]
  },
  {
   "cell_type": "code",
   "execution_count": 30,
   "metadata": {
    "collapsed": false
   },
   "outputs": [
    {
     "data": {
      "text/html": [
       "<div>\n",
       "<table border=\"1\" class=\"dataframe\">\n",
       "  <thead>\n",
       "    <tr style=\"text-align: right;\">\n",
       "      <th></th>\n",
       "      <th>Position</th>\n",
       "      <th>HistCTR</th>\n",
       "      <th>IsClick</th>\n",
       "      <th>SearchDate</th>\n",
       "      <th>IPID</th>\n",
       "      <th>UserID</th>\n",
       "      <th>IsUserLoggedOn</th>\n",
       "      <th>SearchQuery_x</th>\n",
       "      <th>SearchLocationID</th>\n",
       "      <th>SearchCategoryID</th>\n",
       "      <th>SearchParams</th>\n",
       "      <th>SearchLocationLevel</th>\n",
       "      <th>SearchRegionID</th>\n",
       "      <th>SearchCityID</th>\n",
       "      <th>SearchCategoryLevel</th>\n",
       "      <th>SearchParentCategoryID</th>\n",
       "      <th>SearchSubcategoryID</th>\n",
       "      <th>UserAgentID</th>\n",
       "      <th>UserAgentOSID</th>\n",
       "      <th>UserDeviceID</th>\n",
       "      <th>UserAgentFamilyID</th>\n",
       "      <th>AdCategoryID</th>\n",
       "      <th>Params</th>\n",
       "      <th>Price</th>\n",
       "      <th>Title_x</th>\n",
       "      <th>AdCategoryLevel</th>\n",
       "      <th>AdParentCategoryID</th>\n",
       "      <th>AdSubcategoryID</th>\n",
       "      <th>weight</th>\n",
       "      <th>SearchQuery_y</th>\n",
       "      <th>Title_y</th>\n",
       "      <th>SearchAdPartialRatio_x</th>\n",
       "      <th>SearchQuery_x</th>\n",
       "      <th>Title_x</th>\n",
       "      <th>SearchAdPartialRatio_y</th>\n",
       "      <th>SearchQuery_y</th>\n",
       "      <th>Title_y</th>\n",
       "      <th>SearchAdPartialRatio_x</th>\n",
       "      <th>SearchQuery_x</th>\n",
       "      <th>Title_x</th>\n",
       "      <th>SearchAdPartialRatio_y</th>\n",
       "      <th>SearchID</th>\n",
       "      <th>AdID</th>\n",
       "      <th>SearchQuery_y</th>\n",
       "      <th>Title_y</th>\n",
       "      <th>SearchAdPartialRatio</th>\n",
       "    </tr>\n",
       "  </thead>\n",
       "  <tbody>\n",
       "  </tbody>\n",
       "</table>\n",
       "</div>"
      ],
      "text/plain": [
       "Empty DataFrame\n",
       "Columns: [Position, HistCTR, IsClick, SearchDate, IPID, UserID, IsUserLoggedOn, SearchQuery_x, SearchLocationID, SearchCategoryID, SearchParams, SearchLocationLevel, SearchRegionID, SearchCityID, SearchCategoryLevel, SearchParentCategoryID, SearchSubcategoryID, UserAgentID, UserAgentOSID, UserDeviceID, UserAgentFamilyID, AdCategoryID, Params, Price, Title_x, AdCategoryLevel, AdParentCategoryID, AdSubcategoryID, weight, SearchQuery_y, Title_y, SearchAdPartialRatio_x, SearchQuery_x, Title_x, SearchAdPartialRatio_y, SearchQuery_y, Title_y, SearchAdPartialRatio_x, SearchQuery_x, Title_x, SearchAdPartialRatio_y, SearchID, AdID, SearchQuery_y, Title_y, SearchAdPartialRatio]\n",
       "Index: []"
      ]
     },
     "execution_count": 30,
     "metadata": {},
     "output_type": "execute_result"
    }
   ],
   "source": [
    "df.head(20)"
   ]
  },
  {
   "cell_type": "code",
   "execution_count": 8,
   "metadata": {
    "collapsed": false
   },
   "outputs": [
    {
     "data": {
      "text/html": [
       "<div>\n",
       "<table border=\"1\" class=\"dataframe\">\n",
       "  <thead>\n",
       "    <tr style=\"text-align: right;\">\n",
       "      <th></th>\n",
       "      <th>Position</th>\n",
       "      <th>HistCTR</th>\n",
       "      <th>IsUserLoggedOn</th>\n",
       "      <th>Price</th>\n",
       "      <th>day_of_week</th>\n",
       "      <th>hour</th>\n",
       "      <th>AdTitleSZ</th>\n",
       "      <th>SearchParamsSZ</th>\n",
       "      <th>SearchQuerySZ</th>\n",
       "    </tr>\n",
       "  </thead>\n",
       "  <tbody>\n",
       "    <tr>\n",
       "      <th>0</th>\n",
       "      <td>7</td>\n",
       "      <td>0.005422</td>\n",
       "      <td>0</td>\n",
       "      <td>1000.0</td>\n",
       "      <td>5</td>\n",
       "      <td>22</td>\n",
       "      <td>93.0</td>\n",
       "      <td>NaN</td>\n",
       "      <td>NaN</td>\n",
       "    </tr>\n",
       "    <tr>\n",
       "      <th>1</th>\n",
       "      <td>1</td>\n",
       "      <td>0.012844</td>\n",
       "      <td>0</td>\n",
       "      <td>77170.0</td>\n",
       "      <td>5</td>\n",
       "      <td>22</td>\n",
       "      <td>66.0</td>\n",
       "      <td>NaN</td>\n",
       "      <td>NaN</td>\n",
       "    </tr>\n",
       "    <tr>\n",
       "      <th>2</th>\n",
       "      <td>1</td>\n",
       "      <td>0.002102</td>\n",
       "      <td>0</td>\n",
       "      <td>1790.0</td>\n",
       "      <td>3</td>\n",
       "      <td>10</td>\n",
       "      <td>39.0</td>\n",
       "      <td>84.0</td>\n",
       "      <td>NaN</td>\n",
       "    </tr>\n",
       "    <tr>\n",
       "      <th>3</th>\n",
       "      <td>7</td>\n",
       "      <td>0.013889</td>\n",
       "      <td>0</td>\n",
       "      <td>3000.0</td>\n",
       "      <td>3</td>\n",
       "      <td>10</td>\n",
       "      <td>48.0</td>\n",
       "      <td>84.0</td>\n",
       "      <td>NaN</td>\n",
       "    </tr>\n",
       "    <tr>\n",
       "      <th>4</th>\n",
       "      <td>1</td>\n",
       "      <td>0.033885</td>\n",
       "      <td>1</td>\n",
       "      <td>5470.0</td>\n",
       "      <td>3</td>\n",
       "      <td>10</td>\n",
       "      <td>65.0</td>\n",
       "      <td>59.0</td>\n",
       "      <td>15.0</td>\n",
       "    </tr>\n",
       "  </tbody>\n",
       "</table>\n",
       "</div>"
      ],
      "text/plain": [
       "   Position   HistCTR  IsUserLoggedOn    Price  day_of_week  hour  AdTitleSZ  \\\n",
       "0         7  0.005422               0   1000.0            5    22       93.0   \n",
       "1         1  0.012844               0  77170.0            5    22       66.0   \n",
       "2         1  0.002102               0   1790.0            3    10       39.0   \n",
       "3         7  0.013889               0   3000.0            3    10       48.0   \n",
       "4         1  0.033885               1   5470.0            3    10       65.0   \n",
       "\n",
       "   SearchParamsSZ  SearchQuerySZ  \n",
       "0             NaN            NaN  \n",
       "1             NaN            NaN  \n",
       "2            84.0            NaN  \n",
       "3            84.0            NaN  \n",
       "4            59.0           15.0  "
      ]
     },
     "execution_count": 8,
     "metadata": {},
     "output_type": "execute_result"
    }
   ],
   "source": [
    "TITLE = ['Position', 'HistCTR', 'IsUserLoggedOn', 'Price', 'day_of_week', 'hour', 'AdTitleSZ', 'SearchParamsSZ', 'SearchQuerySZ', 'IsClick']\n",
    "inputs = df[TITLE].drop([\"IsClick\"], axis=1)\n",
    "inputs.shape\n",
    "inputs.head()"
   ]
  },
  {
   "cell_type": "code",
   "execution_count": 9,
   "metadata": {
    "collapsed": false
   },
   "outputs": [
    {
     "data": {
      "text/plain": [
       "0    1\n",
       "1    0\n",
       "2    0\n",
       "3    1\n",
       "4    1\n",
       "Name: IsClick, dtype: int64"
      ]
     },
     "execution_count": 9,
     "metadata": {},
     "output_type": "execute_result"
    }
   ],
   "source": [
    "labels = df[\"IsClick\"]\n",
    "labels.head()"
   ]
  },
  {
   "cell_type": "code",
   "execution_count": 10,
   "metadata": {
    "collapsed": false
   },
   "outputs": [
    {
     "data": {
      "text/html": [
       "<div>\n",
       "<table border=\"1\" class=\"dataframe\">\n",
       "  <thead>\n",
       "    <tr style=\"text-align: right;\">\n",
       "      <th></th>\n",
       "      <th>Position</th>\n",
       "      <th>HistCTR</th>\n",
       "      <th>IsUserLoggedOn</th>\n",
       "      <th>Price</th>\n",
       "      <th>day_of_week</th>\n",
       "      <th>hour</th>\n",
       "      <th>AdTitleSZ</th>\n",
       "      <th>SearchParamsSZ</th>\n",
       "      <th>SearchQuerySZ</th>\n",
       "    </tr>\n",
       "  </thead>\n",
       "  <tbody>\n",
       "    <tr>\n",
       "      <th>count</th>\n",
       "      <td>5.766142e+06</td>\n",
       "      <td>5.766142e+06</td>\n",
       "      <td>5.766142e+06</td>\n",
       "      <td>5.764383e+06</td>\n",
       "      <td>5.766142e+06</td>\n",
       "      <td>5.766142e+06</td>\n",
       "      <td>5.764383e+06</td>\n",
       "      <td>2.669083e+06</td>\n",
       "      <td>900842.000000</td>\n",
       "    </tr>\n",
       "    <tr>\n",
       "      <th>mean</th>\n",
       "      <td>3.605067e+00</td>\n",
       "      <td>1.150275e-02</td>\n",
       "      <td>3.057816e-01</td>\n",
       "      <td>1.874836e+04</td>\n",
       "      <td>2.820993e+00</td>\n",
       "      <td>1.453817e+01</td>\n",
       "      <td>5.108515e+01</td>\n",
       "      <td>4.914596e+01</td>\n",
       "      <td>17.208384</td>\n",
       "    </tr>\n",
       "    <tr>\n",
       "      <th>std</th>\n",
       "      <td>2.973891e+00</td>\n",
       "      <td>1.618328e-02</td>\n",
       "      <td>4.607377e-01</td>\n",
       "      <td>1.787216e+05</td>\n",
       "      <td>2.048649e+00</td>\n",
       "      <td>5.752825e+00</td>\n",
       "      <td>1.989212e+01</td>\n",
       "      <td>2.421779e+01</td>\n",
       "      <td>9.731279</td>\n",
       "    </tr>\n",
       "    <tr>\n",
       "      <th>min</th>\n",
       "      <td>1.000000e+00</td>\n",
       "      <td>1.000000e-05</td>\n",
       "      <td>0.000000e+00</td>\n",
       "      <td>0.000000e+00</td>\n",
       "      <td>0.000000e+00</td>\n",
       "      <td>0.000000e+00</td>\n",
       "      <td>2.000000e+00</td>\n",
       "      <td>1.000000e+01</td>\n",
       "      <td>1.000000</td>\n",
       "    </tr>\n",
       "    <tr>\n",
       "      <th>25%</th>\n",
       "      <td>1.000000e+00</td>\n",
       "      <td>2.769000e-03</td>\n",
       "      <td>0.000000e+00</td>\n",
       "      <td>1.349000e+03</td>\n",
       "      <td>1.000000e+00</td>\n",
       "      <td>1.100000e+01</td>\n",
       "      <td>3.700000e+01</td>\n",
       "      <td>3.200000e+01</td>\n",
       "      <td>10.000000</td>\n",
       "    </tr>\n",
       "    <tr>\n",
       "      <th>50%</th>\n",
       "      <td>1.000000e+00</td>\n",
       "      <td>6.204000e-03</td>\n",
       "      <td>0.000000e+00</td>\n",
       "      <td>4.399000e+03</td>\n",
       "      <td>3.000000e+00</td>\n",
       "      <td>1.500000e+01</td>\n",
       "      <td>5.200000e+01</td>\n",
       "      <td>4.600000e+01</td>\n",
       "      <td>14.000000</td>\n",
       "    </tr>\n",
       "    <tr>\n",
       "      <th>75%</th>\n",
       "      <td>7.000000e+00</td>\n",
       "      <td>1.333300e-02</td>\n",
       "      <td>1.000000e+00</td>\n",
       "      <td>1.330000e+04</td>\n",
       "      <td>5.000000e+00</td>\n",
       "      <td>1.900000e+01</td>\n",
       "      <td>6.600000e+01</td>\n",
       "      <td>6.100000e+01</td>\n",
       "      <td>22.000000</td>\n",
       "    </tr>\n",
       "    <tr>\n",
       "      <th>max</th>\n",
       "      <td>7.000000e+00</td>\n",
       "      <td>1.000000e+00</td>\n",
       "      <td>1.000000e+00</td>\n",
       "      <td>1.300000e+08</td>\n",
       "      <td>6.000000e+00</td>\n",
       "      <td>2.300000e+01</td>\n",
       "      <td>9.700000e+01</td>\n",
       "      <td>1.980000e+02</td>\n",
       "      <td>162.000000</td>\n",
       "    </tr>\n",
       "  </tbody>\n",
       "</table>\n",
       "</div>"
      ],
      "text/plain": [
       "           Position       HistCTR  IsUserLoggedOn         Price   day_of_week  \\\n",
       "count  5.766142e+06  5.766142e+06    5.766142e+06  5.764383e+06  5.766142e+06   \n",
       "mean   3.605067e+00  1.150275e-02    3.057816e-01  1.874836e+04  2.820993e+00   \n",
       "std    2.973891e+00  1.618328e-02    4.607377e-01  1.787216e+05  2.048649e+00   \n",
       "min    1.000000e+00  1.000000e-05    0.000000e+00  0.000000e+00  0.000000e+00   \n",
       "25%    1.000000e+00  2.769000e-03    0.000000e+00  1.349000e+03  1.000000e+00   \n",
       "50%    1.000000e+00  6.204000e-03    0.000000e+00  4.399000e+03  3.000000e+00   \n",
       "75%    7.000000e+00  1.333300e-02    1.000000e+00  1.330000e+04  5.000000e+00   \n",
       "max    7.000000e+00  1.000000e+00    1.000000e+00  1.300000e+08  6.000000e+00   \n",
       "\n",
       "               hour     AdTitleSZ  SearchParamsSZ  SearchQuerySZ  \n",
       "count  5.766142e+06  5.764383e+06    2.669083e+06  900842.000000  \n",
       "mean   1.453817e+01  5.108515e+01    4.914596e+01      17.208384  \n",
       "std    5.752825e+00  1.989212e+01    2.421779e+01       9.731279  \n",
       "min    0.000000e+00  2.000000e+00    1.000000e+01       1.000000  \n",
       "25%    1.100000e+01  3.700000e+01    3.200000e+01      10.000000  \n",
       "50%    1.500000e+01  5.200000e+01    4.600000e+01      14.000000  \n",
       "75%    1.900000e+01  6.600000e+01    6.100000e+01      22.000000  \n",
       "max    2.300000e+01  9.700000e+01    1.980000e+02     162.000000  "
      ]
     },
     "execution_count": 10,
     "metadata": {},
     "output_type": "execute_result"
    }
   ],
   "source": [
    "inputs.describe()"
   ]
  },
  {
   "cell_type": "code",
   "execution_count": 11,
   "metadata": {
    "collapsed": true
   },
   "outputs": [],
   "source": [
    "median_Price = inputs.Price.median()\n",
    "inputs.Price.fillna(median_Price, inplace=True)\n",
    "\n",
    "median_AdTitleSZ = inputs.AdTitleSZ.median()\n",
    "inputs.AdTitleSZ.fillna(median_AdTitleSZ, inplace=True)\n",
    "\n",
    "median_SearchParamsSZ = inputs.SearchParamsSZ.median()\n",
    "inputs.SearchParamsSZ.fillna(median_SearchParamsSZ, inplace=True)\n",
    "\n",
    "#maybe try zero\n",
    "median_SearchQuerySZ = inputs.SearchQuerySZ.median()\n",
    "inputs.SearchQuerySZ.fillna(median_SearchQuerySZ, inplace=True)"
   ]
  },
  {
   "cell_type": "code",
   "execution_count": 29,
   "metadata": {
    "collapsed": false
   },
   "outputs": [
    {
     "data": {
      "text/html": [
       "<div>\n",
       "<table border=\"1\" class=\"dataframe\">\n",
       "  <thead>\n",
       "    <tr style=\"text-align: right;\">\n",
       "      <th></th>\n",
       "      <th>Position</th>\n",
       "      <th>HistCTR</th>\n",
       "      <th>IsUserLoggedOn</th>\n",
       "      <th>Price</th>\n",
       "      <th>day_of_week</th>\n",
       "      <th>hour</th>\n",
       "      <th>AdTitleSZ</th>\n",
       "      <th>SearchParamsSZ</th>\n",
       "      <th>SearchQuerySZ</th>\n",
       "    </tr>\n",
       "  </thead>\n",
       "  <tbody>\n",
       "    <tr>\n",
       "      <th>count</th>\n",
       "      <td>5.766142e+06</td>\n",
       "      <td>5.766142e+06</td>\n",
       "      <td>5.766142e+06</td>\n",
       "      <td>5.766142e+06</td>\n",
       "      <td>5.766142e+06</td>\n",
       "      <td>5.766142e+06</td>\n",
       "      <td>5.766142e+06</td>\n",
       "      <td>5.766142e+06</td>\n",
       "      <td>5.766142e+06</td>\n",
       "    </tr>\n",
       "    <tr>\n",
       "      <th>mean</th>\n",
       "      <td>3.605067e+00</td>\n",
       "      <td>1.150275e-02</td>\n",
       "      <td>3.057816e-01</td>\n",
       "      <td>1.874398e+04</td>\n",
       "      <td>2.820993e+00</td>\n",
       "      <td>1.453817e+01</td>\n",
       "      <td>5.108543e+01</td>\n",
       "      <td>4.745623e+01</td>\n",
       "      <td>1.450124e+01</td>\n",
       "    </tr>\n",
       "    <tr>\n",
       "      <th>std</th>\n",
       "      <td>2.973891e+00</td>\n",
       "      <td>1.618328e-02</td>\n",
       "      <td>4.607377e-01</td>\n",
       "      <td>1.786945e+05</td>\n",
       "      <td>2.048649e+00</td>\n",
       "      <td>5.752825e+00</td>\n",
       "      <td>1.988910e+01</td>\n",
       "      <td>1.655130e+01</td>\n",
       "      <td>4.018896e+00</td>\n",
       "    </tr>\n",
       "    <tr>\n",
       "      <th>min</th>\n",
       "      <td>1.000000e+00</td>\n",
       "      <td>1.000000e-05</td>\n",
       "      <td>0.000000e+00</td>\n",
       "      <td>0.000000e+00</td>\n",
       "      <td>0.000000e+00</td>\n",
       "      <td>0.000000e+00</td>\n",
       "      <td>2.000000e+00</td>\n",
       "      <td>1.000000e+01</td>\n",
       "      <td>1.000000e+00</td>\n",
       "    </tr>\n",
       "    <tr>\n",
       "      <th>25%</th>\n",
       "      <td>1.000000e+00</td>\n",
       "      <td>2.769000e-03</td>\n",
       "      <td>0.000000e+00</td>\n",
       "      <td>1.350000e+03</td>\n",
       "      <td>1.000000e+00</td>\n",
       "      <td>1.100000e+01</td>\n",
       "      <td>3.700000e+01</td>\n",
       "      <td>4.600000e+01</td>\n",
       "      <td>1.400000e+01</td>\n",
       "    </tr>\n",
       "    <tr>\n",
       "      <th>50%</th>\n",
       "      <td>1.000000e+00</td>\n",
       "      <td>6.204000e-03</td>\n",
       "      <td>0.000000e+00</td>\n",
       "      <td>4.399000e+03</td>\n",
       "      <td>3.000000e+00</td>\n",
       "      <td>1.500000e+01</td>\n",
       "      <td>5.200000e+01</td>\n",
       "      <td>4.600000e+01</td>\n",
       "      <td>1.400000e+01</td>\n",
       "    </tr>\n",
       "    <tr>\n",
       "      <th>75%</th>\n",
       "      <td>7.000000e+00</td>\n",
       "      <td>1.333300e-02</td>\n",
       "      <td>1.000000e+00</td>\n",
       "      <td>1.330000e+04</td>\n",
       "      <td>5.000000e+00</td>\n",
       "      <td>1.900000e+01</td>\n",
       "      <td>6.600000e+01</td>\n",
       "      <td>4.600000e+01</td>\n",
       "      <td>1.400000e+01</td>\n",
       "    </tr>\n",
       "    <tr>\n",
       "      <th>max</th>\n",
       "      <td>7.000000e+00</td>\n",
       "      <td>1.000000e+00</td>\n",
       "      <td>1.000000e+00</td>\n",
       "      <td>1.300000e+08</td>\n",
       "      <td>6.000000e+00</td>\n",
       "      <td>2.300000e+01</td>\n",
       "      <td>9.700000e+01</td>\n",
       "      <td>1.980000e+02</td>\n",
       "      <td>1.620000e+02</td>\n",
       "    </tr>\n",
       "  </tbody>\n",
       "</table>\n",
       "</div>"
      ],
      "text/plain": [
       "           Position       HistCTR  IsUserLoggedOn         Price   day_of_week  \\\n",
       "count  5.766142e+06  5.766142e+06    5.766142e+06  5.766142e+06  5.766142e+06   \n",
       "mean   3.605067e+00  1.150275e-02    3.057816e-01  1.874398e+04  2.820993e+00   \n",
       "std    2.973891e+00  1.618328e-02    4.607377e-01  1.786945e+05  2.048649e+00   \n",
       "min    1.000000e+00  1.000000e-05    0.000000e+00  0.000000e+00  0.000000e+00   \n",
       "25%    1.000000e+00  2.769000e-03    0.000000e+00  1.350000e+03  1.000000e+00   \n",
       "50%    1.000000e+00  6.204000e-03    0.000000e+00  4.399000e+03  3.000000e+00   \n",
       "75%    7.000000e+00  1.333300e-02    1.000000e+00  1.330000e+04  5.000000e+00   \n",
       "max    7.000000e+00  1.000000e+00    1.000000e+00  1.300000e+08  6.000000e+00   \n",
       "\n",
       "               hour     AdTitleSZ  SearchParamsSZ  SearchQuerySZ  \n",
       "count  5.766142e+06  5.766142e+06    5.766142e+06   5.766142e+06  \n",
       "mean   1.453817e+01  5.108543e+01    4.745623e+01   1.450124e+01  \n",
       "std    5.752825e+00  1.988910e+01    1.655130e+01   4.018896e+00  \n",
       "min    0.000000e+00  2.000000e+00    1.000000e+01   1.000000e+00  \n",
       "25%    1.100000e+01  3.700000e+01    4.600000e+01   1.400000e+01  \n",
       "50%    1.500000e+01  5.200000e+01    4.600000e+01   1.400000e+01  \n",
       "75%    1.900000e+01  6.600000e+01    4.600000e+01   1.400000e+01  \n",
       "max    2.300000e+01  9.700000e+01    1.980000e+02   1.620000e+02  "
      ]
     },
     "execution_count": 29,
     "metadata": {},
     "output_type": "execute_result"
    }
   ],
   "source": [
    "inputs.describe()"
   ]
  },
  {
   "cell_type": "code",
   "execution_count": 63,
   "metadata": {
    "collapsed": false,
    "scrolled": false
   },
   "outputs": [],
   "source": [
    "scaler = MinMaxScaler(feature_range=(0, 1), copy=True)\n",
    "inputs.Price = scaler.fit_transform(inputs.Price.reshape(-1, 1))\n",
    "inputs.Position = scaler.fit_transform(inputs.Position.reshape(-1, 1))\n",
    "inputs.day_of_week = scaler.fit_transform(inputs.day_of_week.reshape(-1, 1))\n",
    "inputs.hour = scaler.fit_transform(inputs.hour.reshape(-1, 1))\n",
    "inputs.AdTitleSZ = scaler.fit_transform(inputs.AdTitleSZ.reshape(-1, 1))\n",
    "inputs.SearchParamsSZ = scaler.fit_transform(inputs.SearchParamsSZ.reshape(-1, 1))\n",
    "inputs.SearchQuerySZ = scaler.fit_transform(inputs.SearchQuerySZ.reshape(-1, 1))\n",
    "\n",
    "# scaler = preprocessing.StandardScaler()\n",
    "# inputs.Price = scaler.fit_transform(inputs.Price)"
   ]
  },
  {
   "cell_type": "code",
   "execution_count": 64,
   "metadata": {
    "collapsed": false
   },
   "outputs": [
    {
     "data": {
      "text/html": [
       "<div>\n",
       "<table border=\"1\" class=\"dataframe\">\n",
       "  <thead>\n",
       "    <tr style=\"text-align: right;\">\n",
       "      <th></th>\n",
       "      <th>Position</th>\n",
       "      <th>HistCTR</th>\n",
       "      <th>IsUserLoggedOn</th>\n",
       "      <th>Price</th>\n",
       "      <th>day_of_week</th>\n",
       "      <th>hour</th>\n",
       "      <th>AdTitleSZ</th>\n",
       "      <th>SearchParamsSZ</th>\n",
       "      <th>SearchQuerySZ</th>\n",
       "    </tr>\n",
       "  </thead>\n",
       "  <tbody>\n",
       "    <tr>\n",
       "      <th>count</th>\n",
       "      <td>5.766142e+06</td>\n",
       "      <td>5.766142e+06</td>\n",
       "      <td>5.766142e+06</td>\n",
       "      <td>5.766142e+06</td>\n",
       "      <td>5.766142e+06</td>\n",
       "      <td>5.766142e+06</td>\n",
       "      <td>5.766142e+06</td>\n",
       "      <td>5.766142e+06</td>\n",
       "      <td>5.766142e+06</td>\n",
       "    </tr>\n",
       "    <tr>\n",
       "      <th>mean</th>\n",
       "      <td>4.341778e-01</td>\n",
       "      <td>1.150275e-02</td>\n",
       "      <td>3.057816e-01</td>\n",
       "      <td>1.441845e-04</td>\n",
       "      <td>4.701655e-01</td>\n",
       "      <td>6.320942e-01</td>\n",
       "      <td>6.305251e-01</td>\n",
       "      <td>1.340657e-01</td>\n",
       "      <td>7.330037e-02</td>\n",
       "    </tr>\n",
       "    <tr>\n",
       "      <th>std</th>\n",
       "      <td>4.956485e-01</td>\n",
       "      <td>1.618328e-02</td>\n",
       "      <td>4.607377e-01</td>\n",
       "      <td>1.374573e-03</td>\n",
       "      <td>3.414414e-01</td>\n",
       "      <td>2.501228e-01</td>\n",
       "      <td>2.566595e-01</td>\n",
       "      <td>7.839234e-02</td>\n",
       "      <td>2.104298e-02</td>\n",
       "    </tr>\n",
       "    <tr>\n",
       "      <th>min</th>\n",
       "      <td>0.000000e+00</td>\n",
       "      <td>1.000000e-05</td>\n",
       "      <td>0.000000e+00</td>\n",
       "      <td>0.000000e+00</td>\n",
       "      <td>0.000000e+00</td>\n",
       "      <td>0.000000e+00</td>\n",
       "      <td>0.000000e+00</td>\n",
       "      <td>0.000000e+00</td>\n",
       "      <td>0.000000e+00</td>\n",
       "    </tr>\n",
       "    <tr>\n",
       "      <th>25%</th>\n",
       "      <td>0.000000e+00</td>\n",
       "      <td>2.769000e-03</td>\n",
       "      <td>0.000000e+00</td>\n",
       "      <td>1.038462e-05</td>\n",
       "      <td>1.666667e-01</td>\n",
       "      <td>4.782609e-01</td>\n",
       "      <td>4.375000e-01</td>\n",
       "      <td>1.200000e-01</td>\n",
       "      <td>7.070707e-02</td>\n",
       "    </tr>\n",
       "    <tr>\n",
       "      <th>50%</th>\n",
       "      <td>0.000000e+00</td>\n",
       "      <td>6.204000e-03</td>\n",
       "      <td>0.000000e+00</td>\n",
       "      <td>3.383846e-05</td>\n",
       "      <td>5.000000e-01</td>\n",
       "      <td>6.521739e-01</td>\n",
       "      <td>6.458333e-01</td>\n",
       "      <td>1.200000e-01</td>\n",
       "      <td>7.070707e-02</td>\n",
       "    </tr>\n",
       "    <tr>\n",
       "      <th>75%</th>\n",
       "      <td>1.000000e+00</td>\n",
       "      <td>1.333300e-02</td>\n",
       "      <td>1.000000e+00</td>\n",
       "      <td>1.023077e-04</td>\n",
       "      <td>8.333333e-01</td>\n",
       "      <td>8.260870e-01</td>\n",
       "      <td>8.541667e-01</td>\n",
       "      <td>1.200000e-01</td>\n",
       "      <td>7.070707e-02</td>\n",
       "    </tr>\n",
       "    <tr>\n",
       "      <th>max</th>\n",
       "      <td>1.000000e+00</td>\n",
       "      <td>1.000000e+00</td>\n",
       "      <td>1.000000e+00</td>\n",
       "      <td>1.000000e+00</td>\n",
       "      <td>1.000000e+00</td>\n",
       "      <td>1.000000e+00</td>\n",
       "      <td>1.000000e+00</td>\n",
       "      <td>1.000000e+00</td>\n",
       "      <td>1.000000e+00</td>\n",
       "    </tr>\n",
       "  </tbody>\n",
       "</table>\n",
       "</div>"
      ],
      "text/plain": [
       "           Position       HistCTR  IsUserLoggedOn         Price   day_of_week  \\\n",
       "count  5.766142e+06  5.766142e+06    5.766142e+06  5.766142e+06  5.766142e+06   \n",
       "mean   4.341778e-01  1.150275e-02    3.057816e-01  1.441845e-04  4.701655e-01   \n",
       "std    4.956485e-01  1.618328e-02    4.607377e-01  1.374573e-03  3.414414e-01   \n",
       "min    0.000000e+00  1.000000e-05    0.000000e+00  0.000000e+00  0.000000e+00   \n",
       "25%    0.000000e+00  2.769000e-03    0.000000e+00  1.038462e-05  1.666667e-01   \n",
       "50%    0.000000e+00  6.204000e-03    0.000000e+00  3.383846e-05  5.000000e-01   \n",
       "75%    1.000000e+00  1.333300e-02    1.000000e+00  1.023077e-04  8.333333e-01   \n",
       "max    1.000000e+00  1.000000e+00    1.000000e+00  1.000000e+00  1.000000e+00   \n",
       "\n",
       "               hour     AdTitleSZ  SearchParamsSZ  SearchQuerySZ  \n",
       "count  5.766142e+06  5.766142e+06    5.766142e+06   5.766142e+06  \n",
       "mean   6.320942e-01  6.305251e-01    1.340657e-01   7.330037e-02  \n",
       "std    2.501228e-01  2.566595e-01    7.839234e-02   2.104298e-02  \n",
       "min    0.000000e+00  0.000000e+00    0.000000e+00   0.000000e+00  \n",
       "25%    4.782609e-01  4.375000e-01    1.200000e-01   7.070707e-02  \n",
       "50%    6.521739e-01  6.458333e-01    1.200000e-01   7.070707e-02  \n",
       "75%    8.260870e-01  8.541667e-01    1.200000e-01   7.070707e-02  \n",
       "max    1.000000e+00  1.000000e+00    1.000000e+00   1.000000e+00  "
      ]
     },
     "execution_count": 64,
     "metadata": {},
     "output_type": "execute_result"
    }
   ],
   "source": [
    "inputs.describe()"
   ]
  },
  {
   "cell_type": "code",
   "execution_count": 12,
   "metadata": {
    "collapsed": false
   },
   "outputs": [
    {
     "data": {
      "text/plain": [
       "Position            int64\n",
       "HistCTR           float64\n",
       "IsUserLoggedOn      int64\n",
       "Price             float64\n",
       "day_of_week         int64\n",
       "hour                int64\n",
       "AdTitleSZ         float64\n",
       "SearchParamsSZ    float64\n",
       "SearchQuerySZ     float64\n",
       "dtype: object"
      ]
     },
     "execution_count": 12,
     "metadata": {},
     "output_type": "execute_result"
    }
   ],
   "source": [
    "inputs.dtypes"
   ]
  },
  {
   "cell_type": "code",
   "execution_count": 13,
   "metadata": {
    "collapsed": true
   },
   "outputs": [],
   "source": [
    "inputs['Position'] = inputs['Position'].astype(float)\n",
    "inputs['IsUserLoggedOn'] = inputs['IsUserLoggedOn'].astype(float)\n",
    "inputs['day_of_week'] = inputs['day_of_week'].astype(float)\n",
    "inputs['hour'] = inputs['hour'].astype(float)"
   ]
  },
  {
   "cell_type": "code",
   "execution_count": 14,
   "metadata": {
    "collapsed": false
   },
   "outputs": [
    {
     "data": {
      "text/plain": [
       "Position          float64\n",
       "HistCTR           float64\n",
       "IsUserLoggedOn    float64\n",
       "Price             float64\n",
       "day_of_week       float64\n",
       "hour              float64\n",
       "AdTitleSZ         float64\n",
       "SearchParamsSZ    float64\n",
       "SearchQuerySZ     float64\n",
       "dtype: object"
      ]
     },
     "execution_count": 14,
     "metadata": {},
     "output_type": "execute_result"
    }
   ],
   "source": [
    "inputs.dtypes"
   ]
  },
  {
   "cell_type": "markdown",
   "metadata": {},
   "source": [
    "## Logistic Regression with Stochastic Gradient Descent"
   ]
  },
  {
   "cell_type": "code",
   "execution_count": 19,
   "metadata": {
    "collapsed": false
   },
   "outputs": [
    {
     "name": "stdout",
     "output_type": "stream",
     "text": [
      "SGDClassifier(alpha=0.0001, average=False, class_weight=None, epsilon=0.1,\n",
      "       eta0=0.0, fit_intercept=True, l1_ratio=0.15,\n",
      "       learning_rate='optimal', loss='log', n_iter=5, n_jobs=1,\n",
      "       penalty='l2', power_t=0.5, random_state=None, shuffle=True,\n",
      "       verbose=0, warm_start=False)\n"
     ]
    }
   ],
   "source": [
    "CLF_LogReg_SGF = SGDClassifier(loss=\"log\")\n",
    "CLF_LogReg_SGF.fit(inputs, labels)\n",
    "print(CLF_LogReg_SGF)"
   ]
  },
  {
   "cell_type": "code",
   "execution_count": 21,
   "metadata": {
    "collapsed": false
   },
   "outputs": [
    {
     "data": {
      "text/plain": [
       "0.80171456061956159"
      ]
     },
     "execution_count": 21,
     "metadata": {},
     "output_type": "execute_result"
    }
   ],
   "source": [
    "CLF_LogReg_SGF.predict_proba(inputs)\n",
    "CLF_LogReg_SGF.score(inputs, labels)"
   ]
  },
  {
   "cell_type": "markdown",
   "metadata": {},
   "source": [
    "## XGboost"
   ]
  },
  {
   "cell_type": "code",
   "execution_count": 35,
   "metadata": {
    "collapsed": false
   },
   "outputs": [
    {
     "name": "stdout",
     "output_type": "stream",
     "text": [
      "XGBClassifier(base_score=0.5, colsample_bylevel=1, colsample_bytree=1,\n",
      "       gamma=0, learning_rate=0.1, max_delta_step=0, max_depth=3,\n",
      "       min_child_weight=1, missing=None, n_estimators=100, nthread=-1,\n",
      "       objective='binary:logistic', reg_alpha=0, reg_lambda=1,\n",
      "       scale_pos_weight=1, seed=0, silent=True, subsample=1)\n"
     ]
    }
   ],
   "source": [
    "CLF_Xgboost = xgboost.XGBClassifier()\n",
    "CLF_Xgboost.fit(inputs, labels)\n",
    "print(CLF_Xgboost)"
   ]
  },
  {
   "cell_type": "code",
   "execution_count": 36,
   "metadata": {
    "collapsed": false
   },
   "outputs": [
    {
     "data": {
      "text/plain": [
       "0.80597685592897295"
      ]
     },
     "execution_count": 36,
     "metadata": {},
     "output_type": "execute_result"
    }
   ],
   "source": [
    "CLF_Xgboost.predict(inputs)\n",
    "CLF_Xgboost.score(inputs, labels)"
   ]
  },
  {
   "cell_type": "markdown",
   "metadata": {},
   "source": [
    "## Vowpal Wabbit"
   ]
  },
  {
   "cell_type": "code",
   "execution_count": 37,
   "metadata": {
    "collapsed": false,
    "scrolled": true
   },
   "outputs": [
    {
     "data": {
      "text/plain": [
       "{'quiet': True, 'loss_function': 'logistic'}"
      ]
     },
     "execution_count": 37,
     "metadata": {},
     "output_type": "execute_result"
    }
   ],
   "source": [
    "CLF_wabbit = VWClassifier()\n",
    "CLF_wabbit.fit(inputs, labels)\n",
    "print(CLF_wabbit)"
   ]
  },
  {
   "cell_type": "code",
   "execution_count": 38,
   "metadata": {
    "collapsed": false,
    "scrolled": true
   },
   "outputs": [
    {
     "data": {
      "text/plain": [
       "0.13603012204694231"
      ]
     },
     "execution_count": 38,
     "metadata": {},
     "output_type": "execute_result"
    }
   ],
   "source": [
    "# CLF_wabbit.predict(inputs)\n",
    "CLF_wabbit.score(inputs, labels)"
   ]
  }
 ],
 "metadata": {
  "anaconda-cloud": {},
  "kernelspec": {
   "display_name": "Python 2",
   "language": "python",
   "name": "python2"
  },
  "language_info": {
   "codemirror_mode": {
    "name": "ipython",
    "version": 2
   },
   "file_extension": ".py",
   "mimetype": "text/x-python",
   "name": "python",
   "nbconvert_exporter": "python",
   "pygments_lexer": "ipython2",
   "version": "2.7.10"
  }
 },
 "nbformat": 4,
 "nbformat_minor": 1
}
