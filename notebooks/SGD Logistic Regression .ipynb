{
 "cells": [
  {
   "cell_type": "code",
   "execution_count": 1,
   "metadata": {
    "collapsed": false
   },
   "outputs": [],
   "source": [
    "import pandas as pd\n",
    "import numpy as np\n",
    "import matplotlib as plt\n",
    "%matplotlib inline  \n",
    "pd.set_option('display.max_columns', None)\n",
    "from sklearn.linear_model import SGDClassifier\n",
    "import sklearn.cross_validation\n",
    "from sklearn.preprocessing import MinMaxScaler\n",
    "import sklearn.metrics "
   ]
  },
  {
   "cell_type": "code",
   "execution_count": 2,
   "metadata": {
    "collapsed": true
   },
   "outputs": [],
   "source": [
    "TITLE = ['Position', 'HistCTR', 'IsClick', 'IsUserLoggedOn', 'Price']\n",
    "SOURCE = \"../data/train_sampled.csv\""
   ]
  },
  {
   "cell_type": "code",
   "execution_count": 3,
   "metadata": {
    "collapsed": false
   },
   "outputs": [],
   "source": [
    "df = pd.read_csv(SOURCE , sep=',' , usecols=TITLE) \n",
    "label_frame = df['IsClick']\n",
    "df = df.drop(['IsClick'],axis=1)"
   ]
  },
  {
   "cell_type": "code",
   "execution_count": 16,
   "metadata": {
    "collapsed": false
   },
   "outputs": [
    {
     "data": {
      "text/html": [
       "<div>\n",
       "<table border=\"1\" class=\"dataframe\">\n",
       "  <thead>\n",
       "    <tr style=\"text-align: right;\">\n",
       "      <th></th>\n",
       "      <th>Position</th>\n",
       "      <th>HistCTR</th>\n",
       "      <th>IsUserLoggedOn</th>\n",
       "      <th>Price</th>\n",
       "    </tr>\n",
       "  </thead>\n",
       "  <tbody>\n",
       "    <tr>\n",
       "      <th>count</th>\n",
       "      <td>3438867.000000</td>\n",
       "      <td>3438867.000000</td>\n",
       "      <td>3438867.000000</td>\n",
       "      <td>3.437818e+06</td>\n",
       "    </tr>\n",
       "    <tr>\n",
       "      <th>mean</th>\n",
       "      <td>3.385109</td>\n",
       "      <td>0.012274</td>\n",
       "      <td>0.307141</td>\n",
       "      <td>1.889284e+04</td>\n",
       "    </tr>\n",
       "    <tr>\n",
       "      <th>std</th>\n",
       "      <td>2.936309</td>\n",
       "      <td>0.016786</td>\n",
       "      <td>0.461308</td>\n",
       "      <td>1.484530e+05</td>\n",
       "    </tr>\n",
       "    <tr>\n",
       "      <th>min</th>\n",
       "      <td>1.000000</td>\n",
       "      <td>0.000010</td>\n",
       "      <td>0.000000</td>\n",
       "      <td>0.000000e+00</td>\n",
       "    </tr>\n",
       "    <tr>\n",
       "      <th>25%</th>\n",
       "      <td>1.000000</td>\n",
       "      <td>0.002967</td>\n",
       "      <td>0.000000</td>\n",
       "      <td>1.390000e+03</td>\n",
       "    </tr>\n",
       "    <tr>\n",
       "      <th>50%</th>\n",
       "      <td>1.000000</td>\n",
       "      <td>0.006735</td>\n",
       "      <td>0.000000</td>\n",
       "      <td>4.429000e+03</td>\n",
       "    </tr>\n",
       "    <tr>\n",
       "      <th>75%</th>\n",
       "      <td>7.000000</td>\n",
       "      <td>0.014599</td>\n",
       "      <td>1.000000</td>\n",
       "      <td>1.300000e+04</td>\n",
       "    </tr>\n",
       "    <tr>\n",
       "      <th>max</th>\n",
       "      <td>7.000000</td>\n",
       "      <td>1.000000</td>\n",
       "      <td>1.000000</td>\n",
       "      <td>1.300000e+08</td>\n",
       "    </tr>\n",
       "  </tbody>\n",
       "</table>\n",
       "</div>"
      ],
      "text/plain": [
       "             Position         HistCTR  IsUserLoggedOn         Price\n",
       "count  3438867.000000  3438867.000000  3438867.000000  3.437818e+06\n",
       "mean         3.385109        0.012274        0.307141  1.889284e+04\n",
       "std          2.936309        0.016786        0.461308  1.484530e+05\n",
       "min          1.000000        0.000010        0.000000  0.000000e+00\n",
       "25%          1.000000        0.002967        0.000000  1.390000e+03\n",
       "50%          1.000000        0.006735        0.000000  4.429000e+03\n",
       "75%          7.000000        0.014599        1.000000  1.300000e+04\n",
       "max          7.000000        1.000000        1.000000  1.300000e+08"
      ]
     },
     "execution_count": 16,
     "metadata": {},
     "output_type": "execute_result"
    }
   ],
   "source": [
    "df.describe()"
   ]
  },
  {
   "cell_type": "code",
   "execution_count": 21,
   "metadata": {
    "collapsed": false
   },
   "outputs": [],
   "source": [
    "df[df.Price.isnull()]\n",
    "prices_median = df.Price.median()"
   ]
  },
  {
   "cell_type": "code",
   "execution_count": 75,
   "metadata": {
    "collapsed": false
   },
   "outputs": [],
   "source": [
    "df.Price.fillna(0, inplace=True)"
   ]
  },
  {
   "cell_type": "code",
   "execution_count": 27,
   "metadata": {
    "collapsed": false
   },
   "outputs": [
    {
     "data": {
      "text/plain": [
       "0     1000\n",
       "1     3000\n",
       "2     5470\n",
       "3    10419\n",
       "4      878\n",
       "Name: Price, dtype: float64"
      ]
     },
     "execution_count": 27,
     "metadata": {},
     "output_type": "execute_result"
    }
   ],
   "source": [
    "df.Price.head()"
   ]
  },
  {
   "cell_type": "code",
   "execution_count": 61,
   "metadata": {
    "collapsed": false
   },
   "outputs": [],
   "source": [
    "scaler = MinMaxScaler()\n",
    "df.Price = scaler.fit_transform(df.Price.reshape(-1, 1))"
   ]
  },
  {
   "cell_type": "code",
   "execution_count": 62,
   "metadata": {
    "collapsed": false
   },
   "outputs": [],
   "source": [
    "df.Position = scaler.fit_transform(df.Position.reshape(-1, 1))"
   ]
  },
  {
   "cell_type": "code",
   "execution_count": 76,
   "metadata": {
    "collapsed": false
   },
   "outputs": [
    {
     "data": {
      "text/plain": [
       "-0.62318613924403632"
      ]
     },
     "execution_count": 76,
     "metadata": {},
     "output_type": "execute_result"
    }
   ],
   "source": [
    "clf = SGDClassifier(loss=\"log\")\n",
    "scores = cross_val_score(clf, df, label_frame, cv=10, scoring='log_loss')\n",
    "scores.mean()"
   ]
  },
  {
   "cell_type": "code",
   "execution_count": 34,
   "metadata": {
    "collapsed": false
   },
   "outputs": [
    {
     "data": {
      "text/plain": [
       "0.66758295682851354"
      ]
     },
     "execution_count": 34,
     "metadata": {},
     "output_type": "execute_result"
    }
   ],
   "source": [
    "clf.fit(df, label_frame)\n",
    "clf.predict_proba(df)\n",
    "clf.score(df, label_frame )"
   ]
  },
  {
   "cell_type": "code",
   "execution_count": 39,
   "metadata": {
    "collapsed": false
   },
   "outputs": [
    {
     "data": {
      "text/plain": [
       "0.62316994215069021"
      ]
     },
     "execution_count": 39,
     "metadata": {},
     "output_type": "execute_result"
    }
   ],
   "source": [
    "sklearn.metrics.log_loss(label_frame, clf.predict_proba(df))"
   ]
  },
  {
   "cell_type": "code",
   "execution_count": 73,
   "metadata": {
    "collapsed": false
   },
   "outputs": [],
   "source": [
    "inc_clf = SGDClassifier(loss=\"log\")\n",
    "scaler = MinMaxScaler()\n",
    "for chunk in pd.read_csv(SOURCE, sep=',', usecols=TITLE , chunksize=100000):\n",
    "    Y = chunk['IsClick']\n",
    "    X = chunk.drop(['IsClick'],axis=1)\n",
    "    X.Price.fillna(X.Price.median(), inplace=True)\n",
    "    X.Price = scaler.fit_transform(X.Price.reshape(-1, 1))\n",
    "    #X.Position = scaler.fit_transform(X.Position.reshape(-1, 1))\n",
    "    inc_clf.partial_fit(X, Y ,  classes=[0,1])\n",
    "    "
   ]
  },
  {
   "cell_type": "code",
   "execution_count": 74,
   "metadata": {
    "collapsed": false
   },
   "outputs": [
    {
     "data": {
      "text/plain": [
       "1.0725473847716036"
      ]
     },
     "execution_count": 74,
     "metadata": {},
     "output_type": "execute_result"
    }
   ],
   "source": [
    "sklearn.metrics.log_loss(label_frame, inc_clf.predict_proba(df))"
   ]
  },
  {
   "cell_type": "code",
   "execution_count": 4,
   "metadata": {
    "collapsed": true
   },
   "outputs": [],
   "source": [
    "df = pd.read_csv(SOURCE , sep=',' ) \n",
    "label_frame = df['IsClick']\n",
    "df = df.drop(['IsClick'],axis=1)"
   ]
  },
  {
   "cell_type": "code",
   "execution_count": 5,
   "metadata": {
    "collapsed": false
   },
   "outputs": [
    {
     "data": {
      "text/html": [
       "<div>\n",
       "<table border=\"1\" class=\"dataframe\">\n",
       "  <thead>\n",
       "    <tr style=\"text-align: right;\">\n",
       "      <th></th>\n",
       "      <th>SearchID</th>\n",
       "      <th>AdID</th>\n",
       "      <th>Position</th>\n",
       "      <th>HistCTR</th>\n",
       "      <th>SearchDate</th>\n",
       "      <th>IPID</th>\n",
       "      <th>UserID</th>\n",
       "      <th>IsUserLoggedOn</th>\n",
       "      <th>SearchQuery</th>\n",
       "      <th>SearchLocationID</th>\n",
       "      <th>SearchCategoryID</th>\n",
       "      <th>SearchParams</th>\n",
       "      <th>SearchLocationLevel</th>\n",
       "      <th>SearchRegionID</th>\n",
       "      <th>SearchCityID</th>\n",
       "      <th>SearchCategoryLevel</th>\n",
       "      <th>SearchParentCategoryID</th>\n",
       "      <th>SearchSubcategoryID</th>\n",
       "      <th>UserAgentID</th>\n",
       "      <th>UserAgentOSID</th>\n",
       "      <th>UserDeviceID</th>\n",
       "      <th>UserAgentFamilyID</th>\n",
       "      <th>AdCategoryID</th>\n",
       "      <th>Params</th>\n",
       "      <th>Price</th>\n",
       "      <th>Title</th>\n",
       "      <th>AdCategoryLevel</th>\n",
       "      <th>AdParentCategoryID</th>\n",
       "      <th>AdSubcategoryID</th>\n",
       "    </tr>\n",
       "  </thead>\n",
       "  <tbody>\n",
       "    <tr>\n",
       "      <th>0</th>\n",
       "      <td>121</td>\n",
       "      <td>1220223</td>\n",
       "      <td>7</td>\n",
       "      <td>0.005422</td>\n",
       "      <td>2015-05-09 22:21:40.0</td>\n",
       "      <td>490755</td>\n",
       "      <td>3817669</td>\n",
       "      <td>0</td>\n",
       "      <td>NaN</td>\n",
       "      <td>2685</td>\n",
       "      <td>44</td>\n",
       "      <td>NaN</td>\n",
       "      <td>3</td>\n",
       "      <td>9</td>\n",
       "      <td>1582</td>\n",
       "      <td>3</td>\n",
       "      <td>12</td>\n",
       "      <td>22</td>\n",
       "      <td>1582</td>\n",
       "      <td>44</td>\n",
       "      <td>2014</td>\n",
       "      <td>62</td>\n",
       "      <td>44</td>\n",
       "      <td>{223:'Бинокли и телескопы'}</td>\n",
       "      <td>1000</td>\n",
       "      <td>Лупа,монокуляр на очковой оправе,Отправка по Р...</td>\n",
       "      <td>3</td>\n",
       "      <td>12</td>\n",
       "      <td>22</td>\n",
       "    </tr>\n",
       "    <tr>\n",
       "      <th>1</th>\n",
       "      <td>181</td>\n",
       "      <td>13840581</td>\n",
       "      <td>7</td>\n",
       "      <td>0.013889</td>\n",
       "      <td>2015-04-30 10:24:49.0</td>\n",
       "      <td>1507803</td>\n",
       "      <td>2391097</td>\n",
       "      <td>0</td>\n",
       "      <td>NaN</td>\n",
       "      <td>230</td>\n",
       "      <td>22</td>\n",
       "      <td>{83:'Платья и юбки', 175:'Женская одежда', 90:...</td>\n",
       "      <td>3</td>\n",
       "      <td>2</td>\n",
       "      <td>2951</td>\n",
       "      <td>3</td>\n",
       "      <td>3</td>\n",
       "      <td>47</td>\n",
       "      <td>63091</td>\n",
       "      <td>20</td>\n",
       "      <td>2014</td>\n",
       "      <td>25</td>\n",
       "      <td>22</td>\n",
       "      <td>{83:'Платья и юбки', 175:'Женская одежда'}</td>\n",
       "      <td>3000</td>\n",
       "      <td>Брендовые вечерние платья</td>\n",
       "      <td>3</td>\n",
       "      <td>3</td>\n",
       "      <td>47</td>\n",
       "    </tr>\n",
       "    <tr>\n",
       "      <th>2</th>\n",
       "      <td>198</td>\n",
       "      <td>14515103</td>\n",
       "      <td>1</td>\n",
       "      <td>0.033885</td>\n",
       "      <td>2015-05-07 10:46:21.0</td>\n",
       "      <td>951832</td>\n",
       "      <td>372668</td>\n",
       "      <td>1</td>\n",
       "      <td>chevrolet cruze</td>\n",
       "      <td>3960</td>\n",
       "      <td>34</td>\n",
       "      <td>{598:'Для автомобилей', 5:'Запчасти'}</td>\n",
       "      <td>2</td>\n",
       "      <td>18</td>\n",
       "      <td>623</td>\n",
       "      <td>3</td>\n",
       "      <td>6</td>\n",
       "      <td>7</td>\n",
       "      <td>54509</td>\n",
       "      <td>44</td>\n",
       "      <td>2014</td>\n",
       "      <td>62</td>\n",
       "      <td>34</td>\n",
       "      <td>{5:'Запчасти', 598:'Для автомобилей'}</td>\n",
       "      <td>5470</td>\n",
       "      <td>Запчасти б/у и новые для chevrolet cruze (09-)</td>\n",
       "      <td>3</td>\n",
       "      <td>6</td>\n",
       "      <td>7</td>\n",
       "    </tr>\n",
       "    <tr>\n",
       "      <th>3</th>\n",
       "      <td>404</td>\n",
       "      <td>11801992</td>\n",
       "      <td>1</td>\n",
       "      <td>0.007371</td>\n",
       "      <td>2015-04-30 16:48:21.0</td>\n",
       "      <td>130853</td>\n",
       "      <td>2621226</td>\n",
       "      <td>0</td>\n",
       "      <td>NaN</td>\n",
       "      <td>2473</td>\n",
       "      <td>49</td>\n",
       "      <td>NaN</td>\n",
       "      <td>3</td>\n",
       "      <td>14</td>\n",
       "      <td>698</td>\n",
       "      <td>2</td>\n",
       "      <td>8</td>\n",
       "      <td>45</td>\n",
       "      <td>18318</td>\n",
       "      <td>20</td>\n",
       "      <td>2014</td>\n",
       "      <td>25</td>\n",
       "      <td>46</td>\n",
       "      <td>NaN</td>\n",
       "      <td>10419</td>\n",
       "      <td>Инкубатор Блиц 48 цифровой</td>\n",
       "      <td>3</td>\n",
       "      <td>8</td>\n",
       "      <td>40</td>\n",
       "    </tr>\n",
       "    <tr>\n",
       "      <th>4</th>\n",
       "      <td>438</td>\n",
       "      <td>29135166</td>\n",
       "      <td>1</td>\n",
       "      <td>0.004846</td>\n",
       "      <td>2015-05-01 15:48:08.0</td>\n",
       "      <td>599651</td>\n",
       "      <td>2675985</td>\n",
       "      <td>1</td>\n",
       "      <td>NaN</td>\n",
       "      <td>2060</td>\n",
       "      <td>35</td>\n",
       "      <td>NaN</td>\n",
       "      <td>2</td>\n",
       "      <td>44</td>\n",
       "      <td>1890</td>\n",
       "      <td>3</td>\n",
       "      <td>9</td>\n",
       "      <td>50</td>\n",
       "      <td>10275</td>\n",
       "      <td>20</td>\n",
       "      <td>2014</td>\n",
       "      <td>25</td>\n",
       "      <td>35</td>\n",
       "      <td>NaN</td>\n",
       "      <td>878</td>\n",
       "      <td>Аэросад Луковое счастье</td>\n",
       "      <td>3</td>\n",
       "      <td>9</td>\n",
       "      <td>50</td>\n",
       "    </tr>\n",
       "  </tbody>\n",
       "</table>\n",
       "</div>"
      ],
      "text/plain": [
       "   SearchID      AdID  Position   HistCTR             SearchDate     IPID  \\\n",
       "0       121   1220223         7  0.005422  2015-05-09 22:21:40.0   490755   \n",
       "1       181  13840581         7  0.013889  2015-04-30 10:24:49.0  1507803   \n",
       "2       198  14515103         1  0.033885  2015-05-07 10:46:21.0   951832   \n",
       "3       404  11801992         1  0.007371  2015-04-30 16:48:21.0   130853   \n",
       "4       438  29135166         1  0.004846  2015-05-01 15:48:08.0   599651   \n",
       "\n",
       "    UserID  IsUserLoggedOn      SearchQuery  SearchLocationID  \\\n",
       "0  3817669               0              NaN              2685   \n",
       "1  2391097               0              NaN               230   \n",
       "2   372668               1  chevrolet cruze              3960   \n",
       "3  2621226               0              NaN              2473   \n",
       "4  2675985               1              NaN              2060   \n",
       "\n",
       "   SearchCategoryID                                       SearchParams  \\\n",
       "0                44                                                NaN   \n",
       "1                22  {83:'Платья и юбки', 175:'Женская одежда', 90:...   \n",
       "2                34              {598:'Для автомобилей', 5:'Запчасти'}   \n",
       "3                49                                                NaN   \n",
       "4                35                                                NaN   \n",
       "\n",
       "   SearchLocationLevel  SearchRegionID  SearchCityID  SearchCategoryLevel  \\\n",
       "0                    3               9          1582                    3   \n",
       "1                    3               2          2951                    3   \n",
       "2                    2              18           623                    3   \n",
       "3                    3              14           698                    2   \n",
       "4                    2              44          1890                    3   \n",
       "\n",
       "   SearchParentCategoryID  SearchSubcategoryID  UserAgentID  UserAgentOSID  \\\n",
       "0                      12                   22         1582             44   \n",
       "1                       3                   47        63091             20   \n",
       "2                       6                    7        54509             44   \n",
       "3                       8                   45        18318             20   \n",
       "4                       9                   50        10275             20   \n",
       "\n",
       "   UserDeviceID  UserAgentFamilyID  AdCategoryID  \\\n",
       "0          2014                 62            44   \n",
       "1          2014                 25            22   \n",
       "2          2014                 62            34   \n",
       "3          2014                 25            46   \n",
       "4          2014                 25            35   \n",
       "\n",
       "                                       Params  Price  \\\n",
       "0                 {223:'Бинокли и телескопы'}   1000   \n",
       "1  {83:'Платья и юбки', 175:'Женская одежда'}   3000   \n",
       "2       {5:'Запчасти', 598:'Для автомобилей'}   5470   \n",
       "3                                         NaN  10419   \n",
       "4                                         NaN    878   \n",
       "\n",
       "                                               Title  AdCategoryLevel  \\\n",
       "0  Лупа,монокуляр на очковой оправе,Отправка по Р...                3   \n",
       "1                          Брендовые вечерние платья                3   \n",
       "2     Запчасти б/у и новые для chevrolet cruze (09-)                3   \n",
       "3                         Инкубатор Блиц 48 цифровой                3   \n",
       "4                            Аэросад Луковое счастье                3   \n",
       "\n",
       "   AdParentCategoryID  AdSubcategoryID  \n",
       "0                  12               22  \n",
       "1                   3               47  \n",
       "2                   6                7  \n",
       "3                   8               40  \n",
       "4                   9               50  "
      ]
     },
     "execution_count": 5,
     "metadata": {},
     "output_type": "execute_result"
    }
   ],
   "source": [
    "df.head()"
   ]
  },
  {
   "cell_type": "code",
   "execution_count": null,
   "metadata": {
    "collapsed": true
   },
   "outputs": [],
   "source": []
  }
 ],
 "metadata": {
  "kernelspec": {
   "display_name": "Python 3",
   "language": "python",
   "name": "python3"
  },
  "language_info": {
   "codemirror_mode": {
    "name": "ipython",
    "version": 3
   },
   "file_extension": ".py",
   "mimetype": "text/x-python",
   "name": "python",
   "nbconvert_exporter": "python",
   "pygments_lexer": "ipython3",
   "version": "3.5.1"
  }
 },
 "nbformat": 4,
 "nbformat_minor": 0
}
