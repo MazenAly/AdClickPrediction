{
 "cells": [
  {
   "cell_type": "code",
   "execution_count": 17,
   "metadata": {
    "collapsed": false
   },
   "outputs": [],
   "source": [
    "import pandas as pd\n",
    "import numpy as np\n",
    "pd.set_option('display.max_columns', None)\n",
    "from datetime import datetime\n",
    "from sklearn.linear_model import SGDClassifier\n",
    "import sklearn.cross_validation\n",
    "from sklearn.preprocessing import MinMaxScaler\n",
    "import sklearn.metrics\n",
    "from sklearn.preprocessing import MinMaxScaler, StandardScaler\n",
    "import xgboost\n",
    "from vowpalwabbit.sklearn_vw import VWClassifier\n",
    "import langdetect as ld\n",
    "#from difflib import SequenceMatcher\n",
    "from fuzzywuzzy import fuzz"
   ]
  },
  {
   "cell_type": "code",
   "execution_count": 65,
   "metadata": {
    "collapsed": true
   },
   "outputs": [],
   "source": [
    "SOURCE = \"../data/train3_updated.csv\"\n",
    "df = pd.read_csv(SOURCE, sep=',')"
   ]
  },
  {
   "cell_type": "code",
   "execution_count": 52,
   "metadata": {
    "collapsed": false
   },
   "outputs": [
    {
     "data": {
      "text/html": [
       "<div>\n",
       "<table border=\"1\" class=\"dataframe\">\n",
       "  <thead>\n",
       "    <tr style=\"text-align: right;\">\n",
       "      <th></th>\n",
       "      <th>Position</th>\n",
       "      <th>HistCTR</th>\n",
       "      <th>IsUserLoggedOn</th>\n",
       "      <th>Price</th>\n",
       "      <th>SearchCategoryLevel</th>\n",
       "      <th>reg_ads</th>\n",
       "      <th>highlighted_ads</th>\n",
       "      <th>context_ads</th>\n",
       "      <th>user_clicks_no</th>\n",
       "      <th>user_non_clicks_no</th>\n",
       "      <th>user_click_prob</th>\n",
       "      <th>day_of_week</th>\n",
       "      <th>hour</th>\n",
       "      <th>AdTitleSZ</th>\n",
       "      <th>SearchParamsSZ</th>\n",
       "      <th>SearchQuerySZ</th>\n",
       "      <th>weight</th>\n",
       "      <th>IsClick</th>\n",
       "    </tr>\n",
       "  </thead>\n",
       "  <tbody>\n",
       "    <tr>\n",
       "      <th>0</th>\n",
       "      <td>7</td>\n",
       "      <td>0.005422</td>\n",
       "      <td>0</td>\n",
       "      <td>1000.0</td>\n",
       "      <td>3</td>\n",
       "      <td>3</td>\n",
       "      <td>0</td>\n",
       "      <td>2</td>\n",
       "      <td>5</td>\n",
       "      <td>15</td>\n",
       "      <td>0.250000</td>\n",
       "      <td>5</td>\n",
       "      <td>22</td>\n",
       "      <td>93</td>\n",
       "      <td>0</td>\n",
       "      <td>0</td>\n",
       "      <td>1</td>\n",
       "      <td>1</td>\n",
       "    </tr>\n",
       "    <tr>\n",
       "      <th>1</th>\n",
       "      <td>1</td>\n",
       "      <td>0.012844</td>\n",
       "      <td>0</td>\n",
       "      <td>77170.0</td>\n",
       "      <td>3</td>\n",
       "      <td>3</td>\n",
       "      <td>0</td>\n",
       "      <td>2</td>\n",
       "      <td>5</td>\n",
       "      <td>15</td>\n",
       "      <td>0.250000</td>\n",
       "      <td>5</td>\n",
       "      <td>22</td>\n",
       "      <td>66</td>\n",
       "      <td>0</td>\n",
       "      <td>0</td>\n",
       "      <td>1</td>\n",
       "      <td>0</td>\n",
       "    </tr>\n",
       "    <tr>\n",
       "      <th>2</th>\n",
       "      <td>1</td>\n",
       "      <td>0.002102</td>\n",
       "      <td>0</td>\n",
       "      <td>1790.0</td>\n",
       "      <td>3</td>\n",
       "      <td>2</td>\n",
       "      <td>0</td>\n",
       "      <td>2</td>\n",
       "      <td>5</td>\n",
       "      <td>21</td>\n",
       "      <td>0.192308</td>\n",
       "      <td>3</td>\n",
       "      <td>10</td>\n",
       "      <td>39</td>\n",
       "      <td>84</td>\n",
       "      <td>0</td>\n",
       "      <td>1</td>\n",
       "      <td>0</td>\n",
       "    </tr>\n",
       "    <tr>\n",
       "      <th>3</th>\n",
       "      <td>7</td>\n",
       "      <td>0.013889</td>\n",
       "      <td>0</td>\n",
       "      <td>3000.0</td>\n",
       "      <td>3</td>\n",
       "      <td>2</td>\n",
       "      <td>0</td>\n",
       "      <td>2</td>\n",
       "      <td>5</td>\n",
       "      <td>21</td>\n",
       "      <td>0.192308</td>\n",
       "      <td>3</td>\n",
       "      <td>10</td>\n",
       "      <td>48</td>\n",
       "      <td>84</td>\n",
       "      <td>0</td>\n",
       "      <td>1</td>\n",
       "      <td>1</td>\n",
       "    </tr>\n",
       "    <tr>\n",
       "      <th>4</th>\n",
       "      <td>1</td>\n",
       "      <td>0.033885</td>\n",
       "      <td>1</td>\n",
       "      <td>5470.0</td>\n",
       "      <td>3</td>\n",
       "      <td>4</td>\n",
       "      <td>0</td>\n",
       "      <td>1</td>\n",
       "      <td>1</td>\n",
       "      <td>7</td>\n",
       "      <td>0.125000</td>\n",
       "      <td>3</td>\n",
       "      <td>10</td>\n",
       "      <td>65</td>\n",
       "      <td>59</td>\n",
       "      <td>15</td>\n",
       "      <td>1</td>\n",
       "      <td>1</td>\n",
       "    </tr>\n",
       "  </tbody>\n",
       "</table>\n",
       "</div>"
      ],
      "text/plain": [
       "   Position   HistCTR  IsUserLoggedOn    Price  SearchCategoryLevel  reg_ads  \\\n",
       "0         7  0.005422               0   1000.0                    3        3   \n",
       "1         1  0.012844               0  77170.0                    3        3   \n",
       "2         1  0.002102               0   1790.0                    3        2   \n",
       "3         7  0.013889               0   3000.0                    3        2   \n",
       "4         1  0.033885               1   5470.0                    3        4   \n",
       "\n",
       "   highlighted_ads  context_ads  user_clicks_no  user_non_clicks_no  \\\n",
       "0                0            2               5                  15   \n",
       "1                0            2               5                  15   \n",
       "2                0            2               5                  21   \n",
       "3                0            2               5                  21   \n",
       "4                0            1               1                   7   \n",
       "\n",
       "   user_click_prob  day_of_week  hour  AdTitleSZ  SearchParamsSZ  \\\n",
       "0         0.250000            5    22         93               0   \n",
       "1         0.250000            5    22         66               0   \n",
       "2         0.192308            3    10         39              84   \n",
       "3         0.192308            3    10         48              84   \n",
       "4         0.125000            3    10         65              59   \n",
       "\n",
       "   SearchQuerySZ  weight  IsClick  \n",
       "0              0       1        1  \n",
       "1              0       1        0  \n",
       "2              0       1        0  \n",
       "3              0       1        1  \n",
       "4             15       1        1  "
      ]
     },
     "execution_count": 52,
     "metadata": {},
     "output_type": "execute_result"
    }
   ],
   "source": [
    "df.head()"
   ]
  },
  {
   "cell_type": "code",
   "execution_count": 53,
   "metadata": {
    "collapsed": false
   },
   "outputs": [
    {
     "data": {
      "text/plain": [
       "(5150998, 18)"
      ]
     },
     "execution_count": 53,
     "metadata": {},
     "output_type": "execute_result"
    }
   ],
   "source": [
    "df.shape"
   ]
  },
  {
   "cell_type": "code",
   "execution_count": 66,
   "metadata": {
    "collapsed": false
   },
   "outputs": [],
   "source": [
    "median_Price = df.Price.median()\n",
    "df.Price.fillna(median_Price, inplace=True)"
   ]
  },
  {
   "cell_type": "code",
   "execution_count": 55,
   "metadata": {
    "collapsed": false
   },
   "outputs": [
    {
     "data": {
      "text/html": [
       "<div>\n",
       "<table border=\"1\" class=\"dataframe\">\n",
       "  <thead>\n",
       "    <tr style=\"text-align: right;\">\n",
       "      <th></th>\n",
       "      <th>Position</th>\n",
       "      <th>HistCTR</th>\n",
       "      <th>IsUserLoggedOn</th>\n",
       "      <th>Price</th>\n",
       "      <th>SearchCategoryLevel</th>\n",
       "      <th>reg_ads</th>\n",
       "      <th>highlighted_ads</th>\n",
       "      <th>context_ads</th>\n",
       "      <th>user_clicks_no</th>\n",
       "      <th>user_non_clicks_no</th>\n",
       "      <th>user_click_prob</th>\n",
       "      <th>day_of_week</th>\n",
       "      <th>hour</th>\n",
       "      <th>AdTitleSZ</th>\n",
       "      <th>SearchParamsSZ</th>\n",
       "      <th>SearchQuerySZ</th>\n",
       "      <th>weight</th>\n",
       "      <th>IsClick</th>\n",
       "    </tr>\n",
       "  </thead>\n",
       "  <tbody>\n",
       "    <tr>\n",
       "      <th>count</th>\n",
       "      <td>5.150998e+06</td>\n",
       "      <td>5.150998e+06</td>\n",
       "      <td>5.150998e+06</td>\n",
       "      <td>5.150998e+06</td>\n",
       "      <td>5.150998e+06</td>\n",
       "      <td>5.150998e+06</td>\n",
       "      <td>5.150998e+06</td>\n",
       "      <td>5.150998e+06</td>\n",
       "      <td>5.150998e+06</td>\n",
       "      <td>5.150998e+06</td>\n",
       "      <td>5.150998e+06</td>\n",
       "      <td>5.150998e+06</td>\n",
       "      <td>5.150998e+06</td>\n",
       "      <td>5.150998e+06</td>\n",
       "      <td>5.150998e+06</td>\n",
       "      <td>5.150998e+06</td>\n",
       "      <td>5.150998e+06</td>\n",
       "      <td>5.150998e+06</td>\n",
       "    </tr>\n",
       "    <tr>\n",
       "      <th>mean</th>\n",
       "      <td>3.594031e+00</td>\n",
       "      <td>1.125062e-02</td>\n",
       "      <td>3.144672e-01</td>\n",
       "      <td>1.842276e+04</td>\n",
       "      <td>2.693287e+00</td>\n",
       "      <td>1.702706e+00</td>\n",
       "      <td>3.985022e-01</td>\n",
       "      <td>1.863855e+00</td>\n",
       "      <td>2.537840e+00</td>\n",
       "      <td>1.437796e+01</td>\n",
       "      <td>1.966040e-01</td>\n",
       "      <td>2.867462e+00</td>\n",
       "      <td>1.459326e+01</td>\n",
       "      <td>5.101086e+01</td>\n",
       "      <td>2.292443e+01</td>\n",
       "      <td>2.613030e+00</td>\n",
       "      <td>3.321266e+01</td>\n",
       "      <td>1.966040e-01</td>\n",
       "    </tr>\n",
       "    <tr>\n",
       "      <th>std</th>\n",
       "      <td>2.972405e+00</td>\n",
       "      <td>1.593798e-02</td>\n",
       "      <td>4.643034e-01</td>\n",
       "      <td>9.228073e+04</td>\n",
       "      <td>5.958805e-01</td>\n",
       "      <td>1.303716e+00</td>\n",
       "      <td>5.079587e-01</td>\n",
       "      <td>3.429443e-01</td>\n",
       "      <td>3.858880e+00</td>\n",
       "      <td>2.413330e+01</td>\n",
       "      <td>1.980426e-01</td>\n",
       "      <td>1.977061e+00</td>\n",
       "      <td>5.775873e+00</td>\n",
       "      <td>1.994528e+01</td>\n",
       "      <td>2.966364e+01</td>\n",
       "      <td>7.221760e+00</td>\n",
       "      <td>2.325436e+01</td>\n",
       "      <td>3.974304e-01</td>\n",
       "    </tr>\n",
       "    <tr>\n",
       "      <th>min</th>\n",
       "      <td>1.000000e+00</td>\n",
       "      <td>1.000000e-05</td>\n",
       "      <td>0.000000e+00</td>\n",
       "      <td>0.000000e+00</td>\n",
       "      <td>1.000000e+00</td>\n",
       "      <td>0.000000e+00</td>\n",
       "      <td>0.000000e+00</td>\n",
       "      <td>0.000000e+00</td>\n",
       "      <td>0.000000e+00</td>\n",
       "      <td>0.000000e+00</td>\n",
       "      <td>0.000000e+00</td>\n",
       "      <td>0.000000e+00</td>\n",
       "      <td>0.000000e+00</td>\n",
       "      <td>0.000000e+00</td>\n",
       "      <td>0.000000e+00</td>\n",
       "      <td>0.000000e+00</td>\n",
       "      <td>1.000000e+00</td>\n",
       "      <td>0.000000e+00</td>\n",
       "    </tr>\n",
       "    <tr>\n",
       "      <th>25%</th>\n",
       "      <td>1.000000e+00</td>\n",
       "      <td>2.715000e-03</td>\n",
       "      <td>0.000000e+00</td>\n",
       "      <td>1.300000e+03</td>\n",
       "      <td>3.000000e+00</td>\n",
       "      <td>0.000000e+00</td>\n",
       "      <td>0.000000e+00</td>\n",
       "      <td>2.000000e+00</td>\n",
       "      <td>0.000000e+00</td>\n",
       "      <td>3.000000e+00</td>\n",
       "      <td>0.000000e+00</td>\n",
       "      <td>1.000000e+00</td>\n",
       "      <td>1.100000e+01</td>\n",
       "      <td>3.600000e+01</td>\n",
       "      <td>0.000000e+00</td>\n",
       "      <td>0.000000e+00</td>\n",
       "      <td>1.000000e+00</td>\n",
       "      <td>0.000000e+00</td>\n",
       "    </tr>\n",
       "    <tr>\n",
       "      <th>50%</th>\n",
       "      <td>1.000000e+00</td>\n",
       "      <td>6.100000e-03</td>\n",
       "      <td>0.000000e+00</td>\n",
       "      <td>4.290000e+03</td>\n",
       "      <td>3.000000e+00</td>\n",
       "      <td>2.000000e+00</td>\n",
       "      <td>0.000000e+00</td>\n",
       "      <td>2.000000e+00</td>\n",
       "      <td>1.000000e+00</td>\n",
       "      <td>6.000000e+00</td>\n",
       "      <td>1.578947e-01</td>\n",
       "      <td>3.000000e+00</td>\n",
       "      <td>1.500000e+01</td>\n",
       "      <td>5.200000e+01</td>\n",
       "      <td>0.000000e+00</td>\n",
       "      <td>0.000000e+00</td>\n",
       "      <td>5.000000e+01</td>\n",
       "      <td>0.000000e+00</td>\n",
       "    </tr>\n",
       "    <tr>\n",
       "      <th>75%</th>\n",
       "      <td>7.000000e+00</td>\n",
       "      <td>1.299900e-02</td>\n",
       "      <td>1.000000e+00</td>\n",
       "      <td>1.330000e+04</td>\n",
       "      <td>3.000000e+00</td>\n",
       "      <td>3.000000e+00</td>\n",
       "      <td>1.000000e+00</td>\n",
       "      <td>2.000000e+00</td>\n",
       "      <td>3.000000e+00</td>\n",
       "      <td>1.600000e+01</td>\n",
       "      <td>3.333333e-01</td>\n",
       "      <td>5.000000e+00</td>\n",
       "      <td>1.900000e+01</td>\n",
       "      <td>6.600000e+01</td>\n",
       "      <td>4.200000e+01</td>\n",
       "      <td>0.000000e+00</td>\n",
       "      <td>5.000000e+01</td>\n",
       "      <td>0.000000e+00</td>\n",
       "    </tr>\n",
       "    <tr>\n",
       "      <th>max</th>\n",
       "      <td>7.000000e+00</td>\n",
       "      <td>1.000000e+00</td>\n",
       "      <td>1.000000e+00</td>\n",
       "      <td>1.040000e+07</td>\n",
       "      <td>3.000000e+00</td>\n",
       "      <td>4.000000e+00</td>\n",
       "      <td>4.000000e+00</td>\n",
       "      <td>2.000000e+00</td>\n",
       "      <td>1.070000e+02</td>\n",
       "      <td>5.960000e+02</td>\n",
       "      <td>1.000000e+00</td>\n",
       "      <td>6.000000e+00</td>\n",
       "      <td>2.300000e+01</td>\n",
       "      <td>9.700000e+01</td>\n",
       "      <td>1.980000e+02</td>\n",
       "      <td>1.620000e+02</td>\n",
       "      <td>5.000000e+01</td>\n",
       "      <td>1.000000e+00</td>\n",
       "    </tr>\n",
       "  </tbody>\n",
       "</table>\n",
       "</div>"
      ],
      "text/plain": [
       "           Position       HistCTR  IsUserLoggedOn         Price  \\\n",
       "count  5.150998e+06  5.150998e+06    5.150998e+06  5.150998e+06   \n",
       "mean   3.594031e+00  1.125062e-02    3.144672e-01  1.842276e+04   \n",
       "std    2.972405e+00  1.593798e-02    4.643034e-01  9.228073e+04   \n",
       "min    1.000000e+00  1.000000e-05    0.000000e+00  0.000000e+00   \n",
       "25%    1.000000e+00  2.715000e-03    0.000000e+00  1.300000e+03   \n",
       "50%    1.000000e+00  6.100000e-03    0.000000e+00  4.290000e+03   \n",
       "75%    7.000000e+00  1.299900e-02    1.000000e+00  1.330000e+04   \n",
       "max    7.000000e+00  1.000000e+00    1.000000e+00  1.040000e+07   \n",
       "\n",
       "       SearchCategoryLevel       reg_ads  highlighted_ads   context_ads  \\\n",
       "count         5.150998e+06  5.150998e+06     5.150998e+06  5.150998e+06   \n",
       "mean          2.693287e+00  1.702706e+00     3.985022e-01  1.863855e+00   \n",
       "std           5.958805e-01  1.303716e+00     5.079587e-01  3.429443e-01   \n",
       "min           1.000000e+00  0.000000e+00     0.000000e+00  0.000000e+00   \n",
       "25%           3.000000e+00  0.000000e+00     0.000000e+00  2.000000e+00   \n",
       "50%           3.000000e+00  2.000000e+00     0.000000e+00  2.000000e+00   \n",
       "75%           3.000000e+00  3.000000e+00     1.000000e+00  2.000000e+00   \n",
       "max           3.000000e+00  4.000000e+00     4.000000e+00  2.000000e+00   \n",
       "\n",
       "       user_clicks_no  user_non_clicks_no  user_click_prob   day_of_week  \\\n",
       "count    5.150998e+06        5.150998e+06     5.150998e+06  5.150998e+06   \n",
       "mean     2.537840e+00        1.437796e+01     1.966040e-01  2.867462e+00   \n",
       "std      3.858880e+00        2.413330e+01     1.980426e-01  1.977061e+00   \n",
       "min      0.000000e+00        0.000000e+00     0.000000e+00  0.000000e+00   \n",
       "25%      0.000000e+00        3.000000e+00     0.000000e+00  1.000000e+00   \n",
       "50%      1.000000e+00        6.000000e+00     1.578947e-01  3.000000e+00   \n",
       "75%      3.000000e+00        1.600000e+01     3.333333e-01  5.000000e+00   \n",
       "max      1.070000e+02        5.960000e+02     1.000000e+00  6.000000e+00   \n",
       "\n",
       "               hour     AdTitleSZ  SearchParamsSZ  SearchQuerySZ  \\\n",
       "count  5.150998e+06  5.150998e+06    5.150998e+06   5.150998e+06   \n",
       "mean   1.459326e+01  5.101086e+01    2.292443e+01   2.613030e+00   \n",
       "std    5.775873e+00  1.994528e+01    2.966364e+01   7.221760e+00   \n",
       "min    0.000000e+00  0.000000e+00    0.000000e+00   0.000000e+00   \n",
       "25%    1.100000e+01  3.600000e+01    0.000000e+00   0.000000e+00   \n",
       "50%    1.500000e+01  5.200000e+01    0.000000e+00   0.000000e+00   \n",
       "75%    1.900000e+01  6.600000e+01    4.200000e+01   0.000000e+00   \n",
       "max    2.300000e+01  9.700000e+01    1.980000e+02   1.620000e+02   \n",
       "\n",
       "             weight       IsClick  \n",
       "count  5.150998e+06  5.150998e+06  \n",
       "mean   3.321266e+01  1.966040e-01  \n",
       "std    2.325436e+01  3.974304e-01  \n",
       "min    1.000000e+00  0.000000e+00  \n",
       "25%    1.000000e+00  0.000000e+00  \n",
       "50%    5.000000e+01  0.000000e+00  \n",
       "75%    5.000000e+01  0.000000e+00  \n",
       "max    5.000000e+01  1.000000e+00  "
      ]
     },
     "execution_count": 55,
     "metadata": {},
     "output_type": "execute_result"
    }
   ],
   "source": [
    "df.describe()"
   ]
  },
  {
   "cell_type": "code",
   "execution_count": 56,
   "metadata": {
    "collapsed": false
   },
   "outputs": [
    {
     "data": {
      "text/plain": [
       "Position                 int64\n",
       "HistCTR                float64\n",
       "IsUserLoggedOn           int64\n",
       "Price                  float64\n",
       "SearchCategoryLevel      int64\n",
       "reg_ads                  int64\n",
       "highlighted_ads          int64\n",
       "context_ads              int64\n",
       "user_clicks_no           int64\n",
       "user_non_clicks_no       int64\n",
       "user_click_prob        float64\n",
       "day_of_week              int64\n",
       "hour                     int64\n",
       "AdTitleSZ                int64\n",
       "SearchParamsSZ           int64\n",
       "SearchQuerySZ            int64\n",
       "weight                   int64\n",
       "IsClick                  int64\n",
       "dtype: object"
      ]
     },
     "execution_count": 56,
     "metadata": {},
     "output_type": "execute_result"
    }
   ],
   "source": [
    "df.dtypes"
   ]
  },
  {
   "cell_type": "code",
   "execution_count": 67,
   "metadata": {
    "collapsed": false
   },
   "outputs": [
    {
     "data": {
      "text/plain": [
       "0    1\n",
       "1    0\n",
       "2    0\n",
       "3    1\n",
       "4    1\n",
       "Name: IsClick, dtype: int64"
      ]
     },
     "execution_count": 67,
     "metadata": {},
     "output_type": "execute_result"
    }
   ],
   "source": [
    "labels = df[\"IsClick\"]\n",
    "labels.head()"
   ]
  },
  {
   "cell_type": "code",
   "execution_count": 70,
   "metadata": {
    "collapsed": false
   },
   "outputs": [],
   "source": [
    "# scaler = MinMaxScaler(feature_range=(0, 1), copy=True)\n",
    "# df.weight = scaler.fit_transform(df.weight.reshape(-1, 1))\n",
    "\n",
    "df[\"weight\"] = df[\"weight\"].replace(to_replace=50, value=1.5)"
   ]
  },
  {
   "cell_type": "code",
   "execution_count": null,
   "metadata": {
    "collapsed": true
   },
   "outputs": [],
   "source": []
  },
  {
   "cell_type": "code",
   "execution_count": 71,
   "metadata": {
    "collapsed": false
   },
   "outputs": [
    {
     "data": {
      "text/plain": [
       "1.5    3386272\n",
       "1.0    1764726\n",
       "Name: weight, dtype: int64"
      ]
     },
     "execution_count": 71,
     "metadata": {},
     "output_type": "execute_result"
    }
   ],
   "source": [
    "weights = df[\"weight\"]\n",
    "weights.head()\n",
    "weights.value_counts()"
   ]
  },
  {
   "cell_type": "code",
   "execution_count": 72,
   "metadata": {
    "collapsed": false
   },
   "outputs": [
    {
     "data": {
      "text/html": [
       "<div>\n",
       "<table border=\"1\" class=\"dataframe\">\n",
       "  <thead>\n",
       "    <tr style=\"text-align: right;\">\n",
       "      <th></th>\n",
       "      <th>Position</th>\n",
       "      <th>HistCTR</th>\n",
       "      <th>IsUserLoggedOn</th>\n",
       "      <th>Price</th>\n",
       "      <th>SearchCategoryLevel</th>\n",
       "      <th>reg_ads</th>\n",
       "      <th>highlighted_ads</th>\n",
       "      <th>context_ads</th>\n",
       "      <th>user_clicks_no</th>\n",
       "      <th>user_non_clicks_no</th>\n",
       "      <th>user_click_prob</th>\n",
       "      <th>day_of_week</th>\n",
       "      <th>hour</th>\n",
       "      <th>AdTitleSZ</th>\n",
       "      <th>SearchParamsSZ</th>\n",
       "      <th>SearchQuerySZ</th>\n",
       "    </tr>\n",
       "  </thead>\n",
       "  <tbody>\n",
       "    <tr>\n",
       "      <th>0</th>\n",
       "      <td>7</td>\n",
       "      <td>0.005422</td>\n",
       "      <td>0</td>\n",
       "      <td>1000.0</td>\n",
       "      <td>3</td>\n",
       "      <td>3</td>\n",
       "      <td>0</td>\n",
       "      <td>2</td>\n",
       "      <td>5</td>\n",
       "      <td>15</td>\n",
       "      <td>0.250000</td>\n",
       "      <td>5</td>\n",
       "      <td>22</td>\n",
       "      <td>93</td>\n",
       "      <td>0</td>\n",
       "      <td>0</td>\n",
       "    </tr>\n",
       "    <tr>\n",
       "      <th>1</th>\n",
       "      <td>1</td>\n",
       "      <td>0.012844</td>\n",
       "      <td>0</td>\n",
       "      <td>77170.0</td>\n",
       "      <td>3</td>\n",
       "      <td>3</td>\n",
       "      <td>0</td>\n",
       "      <td>2</td>\n",
       "      <td>5</td>\n",
       "      <td>15</td>\n",
       "      <td>0.250000</td>\n",
       "      <td>5</td>\n",
       "      <td>22</td>\n",
       "      <td>66</td>\n",
       "      <td>0</td>\n",
       "      <td>0</td>\n",
       "    </tr>\n",
       "    <tr>\n",
       "      <th>2</th>\n",
       "      <td>1</td>\n",
       "      <td>0.002102</td>\n",
       "      <td>0</td>\n",
       "      <td>1790.0</td>\n",
       "      <td>3</td>\n",
       "      <td>2</td>\n",
       "      <td>0</td>\n",
       "      <td>2</td>\n",
       "      <td>5</td>\n",
       "      <td>21</td>\n",
       "      <td>0.192308</td>\n",
       "      <td>3</td>\n",
       "      <td>10</td>\n",
       "      <td>39</td>\n",
       "      <td>84</td>\n",
       "      <td>0</td>\n",
       "    </tr>\n",
       "    <tr>\n",
       "      <th>3</th>\n",
       "      <td>7</td>\n",
       "      <td>0.013889</td>\n",
       "      <td>0</td>\n",
       "      <td>3000.0</td>\n",
       "      <td>3</td>\n",
       "      <td>2</td>\n",
       "      <td>0</td>\n",
       "      <td>2</td>\n",
       "      <td>5</td>\n",
       "      <td>21</td>\n",
       "      <td>0.192308</td>\n",
       "      <td>3</td>\n",
       "      <td>10</td>\n",
       "      <td>48</td>\n",
       "      <td>84</td>\n",
       "      <td>0</td>\n",
       "    </tr>\n",
       "    <tr>\n",
       "      <th>4</th>\n",
       "      <td>1</td>\n",
       "      <td>0.033885</td>\n",
       "      <td>1</td>\n",
       "      <td>5470.0</td>\n",
       "      <td>3</td>\n",
       "      <td>4</td>\n",
       "      <td>0</td>\n",
       "      <td>1</td>\n",
       "      <td>1</td>\n",
       "      <td>7</td>\n",
       "      <td>0.125000</td>\n",
       "      <td>3</td>\n",
       "      <td>10</td>\n",
       "      <td>65</td>\n",
       "      <td>59</td>\n",
       "      <td>15</td>\n",
       "    </tr>\n",
       "  </tbody>\n",
       "</table>\n",
       "</div>"
      ],
      "text/plain": [
       "   Position   HistCTR  IsUserLoggedOn    Price  SearchCategoryLevel  reg_ads  \\\n",
       "0         7  0.005422               0   1000.0                    3        3   \n",
       "1         1  0.012844               0  77170.0                    3        3   \n",
       "2         1  0.002102               0   1790.0                    3        2   \n",
       "3         7  0.013889               0   3000.0                    3        2   \n",
       "4         1  0.033885               1   5470.0                    3        4   \n",
       "\n",
       "   highlighted_ads  context_ads  user_clicks_no  user_non_clicks_no  \\\n",
       "0                0            2               5                  15   \n",
       "1                0            2               5                  15   \n",
       "2                0            2               5                  21   \n",
       "3                0            2               5                  21   \n",
       "4                0            1               1                   7   \n",
       "\n",
       "   user_click_prob  day_of_week  hour  AdTitleSZ  SearchParamsSZ  \\\n",
       "0         0.250000            5    22         93               0   \n",
       "1         0.250000            5    22         66               0   \n",
       "2         0.192308            3    10         39              84   \n",
       "3         0.192308            3    10         48              84   \n",
       "4         0.125000            3    10         65              59   \n",
       "\n",
       "   SearchQuerySZ  \n",
       "0              0  \n",
       "1              0  \n",
       "2              0  \n",
       "3              0  \n",
       "4             15  "
      ]
     },
     "execution_count": 72,
     "metadata": {},
     "output_type": "execute_result"
    }
   ],
   "source": [
    "df = df.drop([\"IsClick\"], axis=1)\n",
    "df = df.drop([\"weight\"], axis=1)\n",
    "df.head()"
   ]
  },
  {
   "cell_type": "code",
   "execution_count": 73,
   "metadata": {
    "collapsed": false
   },
   "outputs": [
    {
     "name": "stderr",
     "output_type": "stream",
     "text": [
      "/Users/arzam/Library/Python/2.7/lib/python/site-packages/ipykernel/__main__.py:3: FutureWarning: reshape is deprecated and will raise in a subsequent release. Please use .values.reshape(...) instead\n",
      "  app.launch_new_instance()\n",
      "/Users/arzam/Library/Python/2.7/lib/python/site-packages/ipykernel/__main__.py:9: FutureWarning: reshape is deprecated and will raise in a subsequent release. Please use .values.reshape(...) instead\n",
      "/Users/arzam/Library/Python/2.7/lib/python/site-packages/ipykernel/__main__.py:10: FutureWarning: reshape is deprecated and will raise in a subsequent release. Please use .values.reshape(...) instead\n",
      "/Users/arzam/Library/Python/2.7/lib/python/site-packages/ipykernel/__main__.py:11: FutureWarning: reshape is deprecated and will raise in a subsequent release. Please use .values.reshape(...) instead\n"
     ]
    }
   ],
   "source": [
    "scaler = MinMaxScaler(feature_range=(0, 1), copy=True)\n",
    "\n",
    "df.Price = scaler.fit_transform(df.Price.reshape(-1, 1))\n",
    "\n",
    "# df.Position = scaler.fit_transform(inputs.Position.reshape(-1, 1))\n",
    "# df.day_of_week = scaler.fit_transform(inputs.day_of_week.reshape(-1, 1))\n",
    "# df.hour = scaler.fit_transform(inputs.hour.reshape(-1, 1))\n",
    "\n",
    "df.AdTitleSZ = scaler.fit_transform(df.AdTitleSZ.reshape(-1, 1))\n",
    "df.SearchParamsSZ = scaler.fit_transform(df.SearchParamsSZ.reshape(-1, 1))\n",
    "df.SearchQuerySZ = scaler.fit_transform(df.SearchQuerySZ.reshape(-1, 1))"
   ]
  },
  {
   "cell_type": "code",
   "execution_count": 46,
   "metadata": {
    "collapsed": false
   },
   "outputs": [
    {
     "name": "stderr",
     "output_type": "stream",
     "text": [
      "/Users/arzam/Library/Python/2.7/lib/python/site-packages/ipykernel/__main__.py:1: FutureWarning: reshape is deprecated and will raise in a subsequent release. Please use .values.reshape(...) instead\n",
      "  if __name__ == '__main__':\n"
     ]
    }
   ],
   "source": [
    "# weights = scaler.fit_transform(weights.reshape(-1, 1))"
   ]
  },
  {
   "cell_type": "code",
   "execution_count": 74,
   "metadata": {
    "collapsed": false
   },
   "outputs": [
    {
     "data": {
      "text/plain": [
       "0    1.0\n",
       "1    1.0\n",
       "2    1.0\n",
       "3    1.0\n",
       "4    1.0\n",
       "Name: weight, dtype: float64"
      ]
     },
     "execution_count": 74,
     "metadata": {},
     "output_type": "execute_result"
    }
   ],
   "source": [
    "weights.head()"
   ]
  },
  {
   "cell_type": "code",
   "execution_count": 76,
   "metadata": {
    "collapsed": false
   },
   "outputs": [
    {
     "data": {
      "text/html": [
       "<div>\n",
       "<table border=\"1\" class=\"dataframe\">\n",
       "  <thead>\n",
       "    <tr style=\"text-align: right;\">\n",
       "      <th></th>\n",
       "      <th>Position</th>\n",
       "      <th>HistCTR</th>\n",
       "      <th>IsUserLoggedOn</th>\n",
       "      <th>Price</th>\n",
       "      <th>SearchCategoryLevel</th>\n",
       "      <th>reg_ads</th>\n",
       "      <th>highlighted_ads</th>\n",
       "      <th>context_ads</th>\n",
       "      <th>user_clicks_no</th>\n",
       "      <th>user_non_clicks_no</th>\n",
       "      <th>user_click_prob</th>\n",
       "      <th>day_of_week</th>\n",
       "      <th>hour</th>\n",
       "      <th>AdTitleSZ</th>\n",
       "      <th>SearchParamsSZ</th>\n",
       "      <th>SearchQuerySZ</th>\n",
       "    </tr>\n",
       "  </thead>\n",
       "  <tbody>\n",
       "    <tr>\n",
       "      <th>count</th>\n",
       "      <td>5.150998e+06</td>\n",
       "      <td>5.150998e+06</td>\n",
       "      <td>5.150998e+06</td>\n",
       "      <td>5.150998e+06</td>\n",
       "      <td>5.150998e+06</td>\n",
       "      <td>5.150998e+06</td>\n",
       "      <td>5.150998e+06</td>\n",
       "      <td>5.150998e+06</td>\n",
       "      <td>5.150998e+06</td>\n",
       "      <td>5.150998e+06</td>\n",
       "      <td>5.150998e+06</td>\n",
       "      <td>5.150998e+06</td>\n",
       "      <td>5.150998e+06</td>\n",
       "      <td>5.150998e+06</td>\n",
       "      <td>5.150998e+06</td>\n",
       "      <td>5.150998e+06</td>\n",
       "    </tr>\n",
       "    <tr>\n",
       "      <th>mean</th>\n",
       "      <td>3.594031e+00</td>\n",
       "      <td>1.125062e-02</td>\n",
       "      <td>3.144672e-01</td>\n",
       "      <td>1.771419e-03</td>\n",
       "      <td>2.693287e+00</td>\n",
       "      <td>1.702706e+00</td>\n",
       "      <td>3.985022e-01</td>\n",
       "      <td>1.863855e+00</td>\n",
       "      <td>2.537840e+00</td>\n",
       "      <td>1.437796e+01</td>\n",
       "      <td>1.966040e-01</td>\n",
       "      <td>2.867462e+00</td>\n",
       "      <td>1.459326e+01</td>\n",
       "      <td>5.258851e-01</td>\n",
       "      <td>1.157799e-01</td>\n",
       "      <td>1.612981e-02</td>\n",
       "    </tr>\n",
       "    <tr>\n",
       "      <th>std</th>\n",
       "      <td>2.972405e+00</td>\n",
       "      <td>1.593798e-02</td>\n",
       "      <td>4.643034e-01</td>\n",
       "      <td>8.873147e-03</td>\n",
       "      <td>5.958805e-01</td>\n",
       "      <td>1.303716e+00</td>\n",
       "      <td>5.079587e-01</td>\n",
       "      <td>3.429443e-01</td>\n",
       "      <td>3.858880e+00</td>\n",
       "      <td>2.413330e+01</td>\n",
       "      <td>1.980426e-01</td>\n",
       "      <td>1.977061e+00</td>\n",
       "      <td>5.775873e+00</td>\n",
       "      <td>2.056215e-01</td>\n",
       "      <td>1.498164e-01</td>\n",
       "      <td>4.457877e-02</td>\n",
       "    </tr>\n",
       "    <tr>\n",
       "      <th>min</th>\n",
       "      <td>1.000000e+00</td>\n",
       "      <td>1.000000e-05</td>\n",
       "      <td>0.000000e+00</td>\n",
       "      <td>0.000000e+00</td>\n",
       "      <td>1.000000e+00</td>\n",
       "      <td>0.000000e+00</td>\n",
       "      <td>0.000000e+00</td>\n",
       "      <td>0.000000e+00</td>\n",
       "      <td>0.000000e+00</td>\n",
       "      <td>0.000000e+00</td>\n",
       "      <td>0.000000e+00</td>\n",
       "      <td>0.000000e+00</td>\n",
       "      <td>0.000000e+00</td>\n",
       "      <td>0.000000e+00</td>\n",
       "      <td>0.000000e+00</td>\n",
       "      <td>0.000000e+00</td>\n",
       "    </tr>\n",
       "    <tr>\n",
       "      <th>25%</th>\n",
       "      <td>1.000000e+00</td>\n",
       "      <td>2.715000e-03</td>\n",
       "      <td>0.000000e+00</td>\n",
       "      <td>1.250000e-04</td>\n",
       "      <td>3.000000e+00</td>\n",
       "      <td>0.000000e+00</td>\n",
       "      <td>0.000000e+00</td>\n",
       "      <td>2.000000e+00</td>\n",
       "      <td>0.000000e+00</td>\n",
       "      <td>3.000000e+00</td>\n",
       "      <td>0.000000e+00</td>\n",
       "      <td>1.000000e+00</td>\n",
       "      <td>1.100000e+01</td>\n",
       "      <td>3.711340e-01</td>\n",
       "      <td>0.000000e+00</td>\n",
       "      <td>0.000000e+00</td>\n",
       "    </tr>\n",
       "    <tr>\n",
       "      <th>50%</th>\n",
       "      <td>1.000000e+00</td>\n",
       "      <td>6.100000e-03</td>\n",
       "      <td>0.000000e+00</td>\n",
       "      <td>4.125000e-04</td>\n",
       "      <td>3.000000e+00</td>\n",
       "      <td>2.000000e+00</td>\n",
       "      <td>0.000000e+00</td>\n",
       "      <td>2.000000e+00</td>\n",
       "      <td>1.000000e+00</td>\n",
       "      <td>6.000000e+00</td>\n",
       "      <td>1.578947e-01</td>\n",
       "      <td>3.000000e+00</td>\n",
       "      <td>1.500000e+01</td>\n",
       "      <td>5.360825e-01</td>\n",
       "      <td>0.000000e+00</td>\n",
       "      <td>0.000000e+00</td>\n",
       "    </tr>\n",
       "    <tr>\n",
       "      <th>75%</th>\n",
       "      <td>7.000000e+00</td>\n",
       "      <td>1.299900e-02</td>\n",
       "      <td>1.000000e+00</td>\n",
       "      <td>1.278846e-03</td>\n",
       "      <td>3.000000e+00</td>\n",
       "      <td>3.000000e+00</td>\n",
       "      <td>1.000000e+00</td>\n",
       "      <td>2.000000e+00</td>\n",
       "      <td>3.000000e+00</td>\n",
       "      <td>1.600000e+01</td>\n",
       "      <td>3.333333e-01</td>\n",
       "      <td>5.000000e+00</td>\n",
       "      <td>1.900000e+01</td>\n",
       "      <td>6.804124e-01</td>\n",
       "      <td>2.121212e-01</td>\n",
       "      <td>0.000000e+00</td>\n",
       "    </tr>\n",
       "    <tr>\n",
       "      <th>max</th>\n",
       "      <td>7.000000e+00</td>\n",
       "      <td>1.000000e+00</td>\n",
       "      <td>1.000000e+00</td>\n",
       "      <td>1.000000e+00</td>\n",
       "      <td>3.000000e+00</td>\n",
       "      <td>4.000000e+00</td>\n",
       "      <td>4.000000e+00</td>\n",
       "      <td>2.000000e+00</td>\n",
       "      <td>1.070000e+02</td>\n",
       "      <td>5.960000e+02</td>\n",
       "      <td>1.000000e+00</td>\n",
       "      <td>6.000000e+00</td>\n",
       "      <td>2.300000e+01</td>\n",
       "      <td>1.000000e+00</td>\n",
       "      <td>1.000000e+00</td>\n",
       "      <td>1.000000e+00</td>\n",
       "    </tr>\n",
       "  </tbody>\n",
       "</table>\n",
       "</div>"
      ],
      "text/plain": [
       "           Position       HistCTR  IsUserLoggedOn         Price  \\\n",
       "count  5.150998e+06  5.150998e+06    5.150998e+06  5.150998e+06   \n",
       "mean   3.594031e+00  1.125062e-02    3.144672e-01  1.771419e-03   \n",
       "std    2.972405e+00  1.593798e-02    4.643034e-01  8.873147e-03   \n",
       "min    1.000000e+00  1.000000e-05    0.000000e+00  0.000000e+00   \n",
       "25%    1.000000e+00  2.715000e-03    0.000000e+00  1.250000e-04   \n",
       "50%    1.000000e+00  6.100000e-03    0.000000e+00  4.125000e-04   \n",
       "75%    7.000000e+00  1.299900e-02    1.000000e+00  1.278846e-03   \n",
       "max    7.000000e+00  1.000000e+00    1.000000e+00  1.000000e+00   \n",
       "\n",
       "       SearchCategoryLevel       reg_ads  highlighted_ads   context_ads  \\\n",
       "count         5.150998e+06  5.150998e+06     5.150998e+06  5.150998e+06   \n",
       "mean          2.693287e+00  1.702706e+00     3.985022e-01  1.863855e+00   \n",
       "std           5.958805e-01  1.303716e+00     5.079587e-01  3.429443e-01   \n",
       "min           1.000000e+00  0.000000e+00     0.000000e+00  0.000000e+00   \n",
       "25%           3.000000e+00  0.000000e+00     0.000000e+00  2.000000e+00   \n",
       "50%           3.000000e+00  2.000000e+00     0.000000e+00  2.000000e+00   \n",
       "75%           3.000000e+00  3.000000e+00     1.000000e+00  2.000000e+00   \n",
       "max           3.000000e+00  4.000000e+00     4.000000e+00  2.000000e+00   \n",
       "\n",
       "       user_clicks_no  user_non_clicks_no  user_click_prob   day_of_week  \\\n",
       "count    5.150998e+06        5.150998e+06     5.150998e+06  5.150998e+06   \n",
       "mean     2.537840e+00        1.437796e+01     1.966040e-01  2.867462e+00   \n",
       "std      3.858880e+00        2.413330e+01     1.980426e-01  1.977061e+00   \n",
       "min      0.000000e+00        0.000000e+00     0.000000e+00  0.000000e+00   \n",
       "25%      0.000000e+00        3.000000e+00     0.000000e+00  1.000000e+00   \n",
       "50%      1.000000e+00        6.000000e+00     1.578947e-01  3.000000e+00   \n",
       "75%      3.000000e+00        1.600000e+01     3.333333e-01  5.000000e+00   \n",
       "max      1.070000e+02        5.960000e+02     1.000000e+00  6.000000e+00   \n",
       "\n",
       "               hour     AdTitleSZ  SearchParamsSZ  SearchQuerySZ  \n",
       "count  5.150998e+06  5.150998e+06    5.150998e+06   5.150998e+06  \n",
       "mean   1.459326e+01  5.258851e-01    1.157799e-01   1.612981e-02  \n",
       "std    5.775873e+00  2.056215e-01    1.498164e-01   4.457877e-02  \n",
       "min    0.000000e+00  0.000000e+00    0.000000e+00   0.000000e+00  \n",
       "25%    1.100000e+01  3.711340e-01    0.000000e+00   0.000000e+00  \n",
       "50%    1.500000e+01  5.360825e-01    0.000000e+00   0.000000e+00  \n",
       "75%    1.900000e+01  6.804124e-01    2.121212e-01   0.000000e+00  \n",
       "max    2.300000e+01  1.000000e+00    1.000000e+00   1.000000e+00  "
      ]
     },
     "execution_count": 76,
     "metadata": {},
     "output_type": "execute_result"
    }
   ],
   "source": [
    "df.describe()"
   ]
  },
  {
   "cell_type": "markdown",
   "metadata": {},
   "source": [
    "## Logistic Regression with Stochastic Gradient Descent"
   ]
  },
  {
   "cell_type": "code",
   "execution_count": null,
   "metadata": {
    "collapsed": true
   },
   "outputs": [],
   "source": [
    "param_grid = [\n",
    "  {'C': [1, 10, 100, 1000], 'kernel': ['linear']},\n",
    "  {'C': [1, 10, 100, 1000], 'gamma': [0.001, 0.0001], 'kernel': ['rbf']},\n",
    " ]"
   ]
  },
  {
   "cell_type": "code",
   "execution_count": 78,
   "metadata": {
    "collapsed": false
   },
   "outputs": [
    {
     "name": "stdout",
     "output_type": "stream",
     "text": [
      "SGDClassifier(alpha=0.0001, average=False, class_weight=None, epsilon=0.1,\n",
      "       eta0=0.0, fit_intercept=True, l1_ratio=0.15,\n",
      "       learning_rate='optimal', loss='log', n_iter=5, n_jobs=1,\n",
      "       penalty='l2', power_t=0.5, random_state=None, shuffle=True,\n",
      "       verbose=0, warm_start=False)\n"
     ]
    }
   ],
   "source": [
    "CLF_LogReg_SGF = SGDClassifier(loss=\"log\")\n",
    "# CLF_LogReg_SGF.fit(df, labels, sample_weight=weights)\n",
    "CLF_LogReg_SGF.fit(df, labels)\n",
    "print(CLF_LogReg_SGF)"
   ]
  },
  {
   "cell_type": "code",
   "execution_count": 34,
   "metadata": {
    "collapsed": false
   },
   "outputs": [
    {
     "data": {
      "text/plain": [
       "0.87293433233715101"
      ]
     },
     "execution_count": 34,
     "metadata": {},
     "output_type": "execute_result"
    }
   ],
   "source": [
    "# CLF_LogReg_SGF.predict_proba(df)\n",
    "# CLF_LogReg_SGF.score(df, labels)"
   ]
  },
  {
   "cell_type": "code",
   "execution_count": 79,
   "metadata": {
    "collapsed": false
   },
   "outputs": [
    {
     "data": {
      "text/plain": [
       "0.35866668209302599"
      ]
     },
     "execution_count": 79,
     "metadata": {},
     "output_type": "execute_result"
    }
   ],
   "source": [
    "sklearn.metrics.log_loss(labels, CLF_LogReg_SGF.predict_proba(df))"
   ]
  },
  {
   "cell_type": "markdown",
   "metadata": {},
   "source": [
    "## XGboost"
   ]
  },
  {
   "cell_type": "code",
   "execution_count": null,
   "metadata": {
    "collapsed": true
   },
   "outputs": [],
   "source": []
  }
 ],
 "metadata": {
  "kernelspec": {
   "display_name": "Python 2",
   "language": "python",
   "name": "python2"
  },
  "language_info": {
   "codemirror_mode": {
    "name": "ipython",
    "version": 2
   },
   "file_extension": ".py",
   "mimetype": "text/x-python",
   "name": "python",
   "nbconvert_exporter": "python",
   "pygments_lexer": "ipython2",
   "version": "2.7.10"
  }
 },
 "nbformat": 4,
 "nbformat_minor": 1
}
